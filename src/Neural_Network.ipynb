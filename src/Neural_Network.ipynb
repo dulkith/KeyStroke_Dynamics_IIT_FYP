{
 "cells": [
  {
   "cell_type": "markdown",
   "metadata": {},
   "source": [
    "# Reimplementation of the best performing algorithm from Killourhy and Maxion's research paper for static authentication \n",
    "\n",
    "Comparing Anomaly-Detection Algorithms for Keystroke Dynamics"
   ]
  },
  {
   "cell_type": "code",
   "execution_count": 1,
   "metadata": {},
   "outputs": [
    {
     "output_type": "error",
     "ename": "ModuleNotFoundError",
     "evalue": "No module named 'tensorflow'",
     "traceback": [
      "\u001b[0;31m---------------------------------------------------------------------------\u001b[0m",
      "\u001b[0;31mModuleNotFoundError\u001b[0m                       Traceback (most recent call last)",
      "\u001b[0;32m<ipython-input-1-0bdbde0048d4>\u001b[0m in \u001b[0;36m<module>\u001b[0;34m\u001b[0m\n\u001b[1;32m     15\u001b[0m \u001b[0;32mfrom\u001b[0m \u001b[0mscipy\u001b[0m\u001b[0;34m.\u001b[0m\u001b[0minterpolate\u001b[0m \u001b[0;32mimport\u001b[0m \u001b[0minterp1d\u001b[0m\u001b[0;34m\u001b[0m\u001b[0;34m\u001b[0m\u001b[0m\n\u001b[1;32m     16\u001b[0m \u001b[0;32mfrom\u001b[0m \u001b[0msklearn\u001b[0m\u001b[0;34m.\u001b[0m\u001b[0mmetrics\u001b[0m \u001b[0;32mimport\u001b[0m \u001b[0mconfusion_matrix\u001b[0m\u001b[0;34m\u001b[0m\u001b[0;34m\u001b[0m\u001b[0m\n\u001b[0;32m---> 17\u001b[0;31m \u001b[0;32mimport\u001b[0m \u001b[0mtensorflow\u001b[0m \u001b[0;32mas\u001b[0m \u001b[0mtf\u001b[0m\u001b[0;34m\u001b[0m\u001b[0;34m\u001b[0m\u001b[0m\n\u001b[0m\u001b[1;32m     18\u001b[0m \u001b[0;32mfrom\u001b[0m \u001b[0mtensorflow\u001b[0m \u001b[0;32mimport\u001b[0m \u001b[0mkeras\u001b[0m\u001b[0;34m\u001b[0m\u001b[0;34m\u001b[0m\u001b[0m\n\u001b[1;32m     19\u001b[0m \u001b[0;32mfrom\u001b[0m \u001b[0mtensorflow\u001b[0m\u001b[0;34m.\u001b[0m\u001b[0mkeras\u001b[0m \u001b[0;32mimport\u001b[0m \u001b[0mlayers\u001b[0m\u001b[0;34m\u001b[0m\u001b[0;34m\u001b[0m\u001b[0m\n",
      "\u001b[0;31mModuleNotFoundError\u001b[0m: No module named 'tensorflow'"
     ]
    }
   ],
   "source": [
    "import pandas as pd\n",
    "import numpy as np\n",
    "import sklearn as sc\n",
    "import matplotlib.pyplot as plt\n",
    "import scipy.stats\n",
    "from sklearn import metrics\n",
    "from sklearn.covariance import EmpiricalCovariance, MinCovDet\n",
    "from sklearn.model_selection import train_test_split\n",
    "from sklearn.neighbors import DistanceMetric\n",
    "from sklearn.neighbors import NearestNeighbors\n",
    "from sklearn.neighbors import KNeighborsClassifier\n",
    "from matplotlib.pyplot import figure\n",
    "from sklearn.metrics import roc_curve, auc, roc_auc_score\n",
    "from scipy.optimize import brentq\n",
    "from scipy.interpolate import interp1d\n",
    "from sklearn.metrics import confusion_matrix\n",
    "import tensorflow as tf\n",
    "from tensorflow import keras\n",
    "from tensorflow.keras import layers\n",
    "from keras.models import Model\n",
    "from keras.layers import Dense, Input"
   ]
  },
  {
   "cell_type": "markdown",
   "metadata": {},
   "source": [
    "# Load Data"
   ]
  },
  {
   "cell_type": "code",
   "execution_count": 2,
   "metadata": {},
   "outputs": [],
   "source": [
    "data = pd.read_csv(\"datasets/killourhy_maxion_password.csv\")"
   ]
  },
  {
   "cell_type": "code",
   "execution_count": 3,
   "outputs": [
    {
     "data": {
      "text/plain": "  subject  sessionIndex  rep  DD.period.t  DD.t.i  DD.i.e  DD.e.five  \\\n0    s002             1    1       0.3979  0.1674  0.2212     1.1885   \n1    s002             1    2       0.3451  0.1283  0.1357     1.1970   \n2    s002             1    3       0.2072  0.1291  0.1542     1.0408   \n3    s002             1    4       0.2515  0.2495  0.2038     1.0556   \n4    s002             1    5       0.2317  0.1676  0.1589     0.8629   \n\n   DD.five.Shift.r  DD.Shift.r.o  DD.o.a  DD.a.n  DD.n.l  DD.l.Return  \n0           1.6055        0.7590  0.2136  0.1484  0.3515       0.3509  \n1           0.7822        0.7877  0.1684  0.2558  0.2642       0.2756  \n2           0.6203        0.7195  0.2931  0.2332  0.2705       0.2847  \n3           1.2564        0.7550  0.1530  0.1629  0.2341       0.3232  \n4           0.8955        0.7632  0.1975  0.1582  0.2517       0.2517  ",
      "text/html": "<div>\n<style scoped>\n    .dataframe tbody tr th:only-of-type {\n        vertical-align: middle;\n    }\n\n    .dataframe tbody tr th {\n        vertical-align: top;\n    }\n\n    .dataframe thead th {\n        text-align: right;\n    }\n</style>\n<table border=\"1\" class=\"dataframe\">\n  <thead>\n    <tr style=\"text-align: right;\">\n      <th></th>\n      <th>subject</th>\n      <th>sessionIndex</th>\n      <th>rep</th>\n      <th>DD.period.t</th>\n      <th>DD.t.i</th>\n      <th>DD.i.e</th>\n      <th>DD.e.five</th>\n      <th>DD.five.Shift.r</th>\n      <th>DD.Shift.r.o</th>\n      <th>DD.o.a</th>\n      <th>DD.a.n</th>\n      <th>DD.n.l</th>\n      <th>DD.l.Return</th>\n    </tr>\n  </thead>\n  <tbody>\n    <tr>\n      <th>0</th>\n      <td>s002</td>\n      <td>1</td>\n      <td>1</td>\n      <td>0.3979</td>\n      <td>0.1674</td>\n      <td>0.2212</td>\n      <td>1.1885</td>\n      <td>1.6055</td>\n      <td>0.7590</td>\n      <td>0.2136</td>\n      <td>0.1484</td>\n      <td>0.3515</td>\n      <td>0.3509</td>\n    </tr>\n    <tr>\n      <th>1</th>\n      <td>s002</td>\n      <td>1</td>\n      <td>2</td>\n      <td>0.3451</td>\n      <td>0.1283</td>\n      <td>0.1357</td>\n      <td>1.1970</td>\n      <td>0.7822</td>\n      <td>0.7877</td>\n      <td>0.1684</td>\n      <td>0.2558</td>\n      <td>0.2642</td>\n      <td>0.2756</td>\n    </tr>\n    <tr>\n      <th>2</th>\n      <td>s002</td>\n      <td>1</td>\n      <td>3</td>\n      <td>0.2072</td>\n      <td>0.1291</td>\n      <td>0.1542</td>\n      <td>1.0408</td>\n      <td>0.6203</td>\n      <td>0.7195</td>\n      <td>0.2931</td>\n      <td>0.2332</td>\n      <td>0.2705</td>\n      <td>0.2847</td>\n    </tr>\n    <tr>\n      <th>3</th>\n      <td>s002</td>\n      <td>1</td>\n      <td>4</td>\n      <td>0.2515</td>\n      <td>0.2495</td>\n      <td>0.2038</td>\n      <td>1.0556</td>\n      <td>1.2564</td>\n      <td>0.7550</td>\n      <td>0.1530</td>\n      <td>0.1629</td>\n      <td>0.2341</td>\n      <td>0.3232</td>\n    </tr>\n    <tr>\n      <th>4</th>\n      <td>s002</td>\n      <td>1</td>\n      <td>5</td>\n      <td>0.2317</td>\n      <td>0.1676</td>\n      <td>0.1589</td>\n      <td>0.8629</td>\n      <td>0.8955</td>\n      <td>0.7632</td>\n      <td>0.1975</td>\n      <td>0.1582</td>\n      <td>0.2517</td>\n      <td>0.2517</td>\n    </tr>\n  </tbody>\n</table>\n</div>"
     },
     "execution_count": 3,
     "metadata": {},
     "output_type": "execute_result"
    }
   ],
   "source": [
    "data = data[data.columns.drop(list(data.filter(regex='H')))]\n",
    "data = data[data.columns.drop(list(data.filter(regex='UD')))]\n",
    "\n",
    "# data = data[data.columns.drop(list(data.filter(regex='DD')))]\n",
    "\n",
    "data.head()"
   ],
   "metadata": {
    "collapsed": false,
    "pycharm": {
     "name": "#%%\n"
    }
   }
  },
  {
   "cell_type": "code",
   "execution_count": 4,
   "metadata": {
    "pycharm": {
     "name": "#%%\n"
    }
   },
   "outputs": [
    {
     "data": {
      "text/plain": "   subject  DD.period.t  DD.t.i  DD.i.e  DD.e.five  DD.five.Shift.r  \\\n0        2       0.3979  0.1674  0.2212     1.1885           1.6055   \n1        2       0.3451  0.1283  0.1357     1.1970           0.7822   \n2        2       0.2072  0.1291  0.1542     1.0408           0.6203   \n3        2       0.2515  0.2495  0.2038     1.0556           1.2564   \n4        2       0.2317  0.1676  0.1589     0.8629           0.8955   \n\n   DD.Shift.r.o  DD.o.a  DD.a.n  DD.n.l  DD.l.Return  \n0        0.7590  0.2136  0.1484  0.3515       0.3509  \n1        0.7877  0.1684  0.2558  0.2642       0.2756  \n2        0.7195  0.2931  0.2332  0.2705       0.2847  \n3        0.7550  0.1530  0.1629  0.2341       0.3232  \n4        0.7632  0.1975  0.1582  0.2517       0.2517  ",
      "text/html": "<div>\n<style scoped>\n    .dataframe tbody tr th:only-of-type {\n        vertical-align: middle;\n    }\n\n    .dataframe tbody tr th {\n        vertical-align: top;\n    }\n\n    .dataframe thead th {\n        text-align: right;\n    }\n</style>\n<table border=\"1\" class=\"dataframe\">\n  <thead>\n    <tr style=\"text-align: right;\">\n      <th></th>\n      <th>subject</th>\n      <th>DD.period.t</th>\n      <th>DD.t.i</th>\n      <th>DD.i.e</th>\n      <th>DD.e.five</th>\n      <th>DD.five.Shift.r</th>\n      <th>DD.Shift.r.o</th>\n      <th>DD.o.a</th>\n      <th>DD.a.n</th>\n      <th>DD.n.l</th>\n      <th>DD.l.Return</th>\n    </tr>\n  </thead>\n  <tbody>\n    <tr>\n      <th>0</th>\n      <td>2</td>\n      <td>0.3979</td>\n      <td>0.1674</td>\n      <td>0.2212</td>\n      <td>1.1885</td>\n      <td>1.6055</td>\n      <td>0.7590</td>\n      <td>0.2136</td>\n      <td>0.1484</td>\n      <td>0.3515</td>\n      <td>0.3509</td>\n    </tr>\n    <tr>\n      <th>1</th>\n      <td>2</td>\n      <td>0.3451</td>\n      <td>0.1283</td>\n      <td>0.1357</td>\n      <td>1.1970</td>\n      <td>0.7822</td>\n      <td>0.7877</td>\n      <td>0.1684</td>\n      <td>0.2558</td>\n      <td>0.2642</td>\n      <td>0.2756</td>\n    </tr>\n    <tr>\n      <th>2</th>\n      <td>2</td>\n      <td>0.2072</td>\n      <td>0.1291</td>\n      <td>0.1542</td>\n      <td>1.0408</td>\n      <td>0.6203</td>\n      <td>0.7195</td>\n      <td>0.2931</td>\n      <td>0.2332</td>\n      <td>0.2705</td>\n      <td>0.2847</td>\n    </tr>\n    <tr>\n      <th>3</th>\n      <td>2</td>\n      <td>0.2515</td>\n      <td>0.2495</td>\n      <td>0.2038</td>\n      <td>1.0556</td>\n      <td>1.2564</td>\n      <td>0.7550</td>\n      <td>0.1530</td>\n      <td>0.1629</td>\n      <td>0.2341</td>\n      <td>0.3232</td>\n    </tr>\n    <tr>\n      <th>4</th>\n      <td>2</td>\n      <td>0.2317</td>\n      <td>0.1676</td>\n      <td>0.1589</td>\n      <td>0.8629</td>\n      <td>0.8955</td>\n      <td>0.7632</td>\n      <td>0.1975</td>\n      <td>0.1582</td>\n      <td>0.2517</td>\n      <td>0.2517</td>\n    </tr>\n  </tbody>\n</table>\n</div>"
     },
     "execution_count": 4,
     "metadata": {},
     "output_type": "execute_result"
    }
   ],
   "source": [
    "data = data[data.columns.drop(['sessionIndex', 'rep'])]\n",
    "data[\"subject\"] = data[\"subject\"].apply(lambda x: int(x[1:]))\n",
    "subjects = data.subject.unique().tolist()\n",
    "data.head()"
   ]
  },
  {
   "cell_type": "code",
   "execution_count": 5,
   "outputs": [],
   "source": [
    "# features\n",
    "X = data[data.columns.drop(['subject'])]"
   ],
   "metadata": {
    "collapsed": false,
    "pycharm": {
     "name": "#%%\n"
    }
   }
  },
  {
   "cell_type": "code",
   "execution_count": 6,
   "metadata": {
    "pycharm": {
     "name": "#%%\n"
    }
   },
   "outputs": [
    {
     "data": {
      "text/plain": "      DD.period.t  DD.t.i  DD.i.e  DD.e.five  DD.five.Shift.r  DD.Shift.r.o  \\\n5600       0.4802  0.5065  0.3181     0.5465           1.6011        0.4305   \n5601       0.4420  0.4014  0.3175     0.9197           0.6844        0.3980   \n5602       0.5353  0.4128  0.4695     0.6544           0.9767        0.4450   \n5603       0.4955  0.4133  0.6004     0.7452           1.0027        0.3869   \n5604       0.3589  0.3336  0.2821     0.4496           0.9548        0.3791   \n...           ...     ...     ...        ...              ...           ...   \n5995       0.2340  0.2349  0.0771     0.2347           0.3410        0.2722   \n5996       0.2356  0.2983  0.0655     0.2512           0.4897        0.3155   \n5997       0.2551  0.2165  0.0790     0.2438           0.4572        0.4748   \n5998       0.2169  0.4574  0.0890     0.2473           1.0206        0.3273   \n5999       0.2345  0.2449  0.0692     0.2763           0.3662        0.2644   \n\n      DD.o.a  DD.a.n  DD.n.l  DD.l.Return  \n5600  0.6396  0.3835  0.4101       0.8998  \n5601  0.1986  0.5379  0.3747       0.8030  \n5602  0.3862  0.3675  0.3560       0.6056  \n5603  0.3653  0.2957  0.4474       0.9990  \n5604  0.1962  0.2089  0.3616       0.7381  \n...      ...     ...     ...          ...  \n5995  0.0611  0.1761  0.2270       0.4274  \n5996  0.0753  0.1833  0.2442       0.4659  \n5997  0.0799  0.1975  0.2288       0.3809  \n5998  0.0920  0.1832  0.2045       0.4245  \n5999  0.0648  0.1724  0.2162       0.4201  \n\n[400 rows x 10 columns]",
      "text/html": "<div>\n<style scoped>\n    .dataframe tbody tr th:only-of-type {\n        vertical-align: middle;\n    }\n\n    .dataframe tbody tr th {\n        vertical-align: top;\n    }\n\n    .dataframe thead th {\n        text-align: right;\n    }\n</style>\n<table border=\"1\" class=\"dataframe\">\n  <thead>\n    <tr style=\"text-align: right;\">\n      <th></th>\n      <th>DD.period.t</th>\n      <th>DD.t.i</th>\n      <th>DD.i.e</th>\n      <th>DD.e.five</th>\n      <th>DD.five.Shift.r</th>\n      <th>DD.Shift.r.o</th>\n      <th>DD.o.a</th>\n      <th>DD.a.n</th>\n      <th>DD.n.l</th>\n      <th>DD.l.Return</th>\n    </tr>\n  </thead>\n  <tbody>\n    <tr>\n      <th>5600</th>\n      <td>0.4802</td>\n      <td>0.5065</td>\n      <td>0.3181</td>\n      <td>0.5465</td>\n      <td>1.6011</td>\n      <td>0.4305</td>\n      <td>0.6396</td>\n      <td>0.3835</td>\n      <td>0.4101</td>\n      <td>0.8998</td>\n    </tr>\n    <tr>\n      <th>5601</th>\n      <td>0.4420</td>\n      <td>0.4014</td>\n      <td>0.3175</td>\n      <td>0.9197</td>\n      <td>0.6844</td>\n      <td>0.3980</td>\n      <td>0.1986</td>\n      <td>0.5379</td>\n      <td>0.3747</td>\n      <td>0.8030</td>\n    </tr>\n    <tr>\n      <th>5602</th>\n      <td>0.5353</td>\n      <td>0.4128</td>\n      <td>0.4695</td>\n      <td>0.6544</td>\n      <td>0.9767</td>\n      <td>0.4450</td>\n      <td>0.3862</td>\n      <td>0.3675</td>\n      <td>0.3560</td>\n      <td>0.6056</td>\n    </tr>\n    <tr>\n      <th>5603</th>\n      <td>0.4955</td>\n      <td>0.4133</td>\n      <td>0.6004</td>\n      <td>0.7452</td>\n      <td>1.0027</td>\n      <td>0.3869</td>\n      <td>0.3653</td>\n      <td>0.2957</td>\n      <td>0.4474</td>\n      <td>0.9990</td>\n    </tr>\n    <tr>\n      <th>5604</th>\n      <td>0.3589</td>\n      <td>0.3336</td>\n      <td>0.2821</td>\n      <td>0.4496</td>\n      <td>0.9548</td>\n      <td>0.3791</td>\n      <td>0.1962</td>\n      <td>0.2089</td>\n      <td>0.3616</td>\n      <td>0.7381</td>\n    </tr>\n    <tr>\n      <th>...</th>\n      <td>...</td>\n      <td>...</td>\n      <td>...</td>\n      <td>...</td>\n      <td>...</td>\n      <td>...</td>\n      <td>...</td>\n      <td>...</td>\n      <td>...</td>\n      <td>...</td>\n    </tr>\n    <tr>\n      <th>5995</th>\n      <td>0.2340</td>\n      <td>0.2349</td>\n      <td>0.0771</td>\n      <td>0.2347</td>\n      <td>0.3410</td>\n      <td>0.2722</td>\n      <td>0.0611</td>\n      <td>0.1761</td>\n      <td>0.2270</td>\n      <td>0.4274</td>\n    </tr>\n    <tr>\n      <th>5996</th>\n      <td>0.2356</td>\n      <td>0.2983</td>\n      <td>0.0655</td>\n      <td>0.2512</td>\n      <td>0.4897</td>\n      <td>0.3155</td>\n      <td>0.0753</td>\n      <td>0.1833</td>\n      <td>0.2442</td>\n      <td>0.4659</td>\n    </tr>\n    <tr>\n      <th>5997</th>\n      <td>0.2551</td>\n      <td>0.2165</td>\n      <td>0.0790</td>\n      <td>0.2438</td>\n      <td>0.4572</td>\n      <td>0.4748</td>\n      <td>0.0799</td>\n      <td>0.1975</td>\n      <td>0.2288</td>\n      <td>0.3809</td>\n    </tr>\n    <tr>\n      <th>5998</th>\n      <td>0.2169</td>\n      <td>0.4574</td>\n      <td>0.0890</td>\n      <td>0.2473</td>\n      <td>1.0206</td>\n      <td>0.3273</td>\n      <td>0.0920</td>\n      <td>0.1832</td>\n      <td>0.2045</td>\n      <td>0.4245</td>\n    </tr>\n    <tr>\n      <th>5999</th>\n      <td>0.2345</td>\n      <td>0.2449</td>\n      <td>0.0692</td>\n      <td>0.2763</td>\n      <td>0.3662</td>\n      <td>0.2644</td>\n      <td>0.0648</td>\n      <td>0.1724</td>\n      <td>0.2162</td>\n      <td>0.4201</td>\n    </tr>\n  </tbody>\n</table>\n<p>400 rows × 10 columns</p>\n</div>"
     },
     "execution_count": 6,
     "metadata": {},
     "output_type": "execute_result"
    }
   ],
   "source": [
    "s_id = 19\n",
    "\n",
    "# create dataset of this user\n",
    "s = data[data[\"subject\"] == s_id]\n",
    "X = s[s.columns.drop(['subject'])]\n",
    "\n",
    "X"
   ]
  },
  {
   "cell_type": "code",
   "execution_count": 7,
   "outputs": [],
   "source": [
    "# divide between train and test\n",
    "X_train = X.head(200)\n",
    "X_test = X.tail(200)"
   ],
   "metadata": {
    "collapsed": false,
    "pycharm": {
     "name": "#%%\n"
    }
   }
  },
  {
   "cell_type": "markdown",
   "metadata": {
    "pycharm": {
     "name": "#%% md\n"
    }
   },
   "source": [
    "# NN AutoEncoder"
   ]
  },
  {
   "cell_type": "code",
   "execution_count": 8,
   "outputs": [
    {
     "name": "stdout",
     "output_type": "stream",
     "text": [
      "Model: \"model_1\"\n",
      "_________________________________________________________________\n",
      "Layer (type)                 Output Shape              Param #   \n",
      "=================================================================\n",
      "input_1 (InputLayer)         (None, 10)                0         \n",
      "_________________________________________________________________\n",
      "dense_1 (Dense)              (None, 10)                110       \n",
      "_________________________________________________________________\n",
      "dense_2 (Dense)              (None, 10)                110       \n",
      "=================================================================\n",
      "Total params: 220\n",
      "Trainable params: 220\n",
      "Non-trainable params: 0\n",
      "_________________________________________________________________\n"
     ]
    }
   ],
   "source": [
    "dim= X_train.shape[1]\n",
    "\n",
    "input = Input(shape=(dim,))\n",
    "hidden = Dense(dim, activation=\"sigmoid\",\n",
    "    kernel_initializer='random_normal',\n",
    "    bias_initializer='zeros')(input)\n",
    "output = Dense(dim, activation=\"linear\",\n",
    "    kernel_initializer='random_normal',\n",
    "    bias_initializer='zeros')(hidden)\n",
    "\n",
    "autoencoder = Model(inputs=input, outputs=output)\n",
    "\n",
    "autoencoder.summary()"
   ],
   "metadata": {
    "collapsed": false,
    "pycharm": {
     "name": "#%%\n"
    }
   }
  },
  {
   "cell_type": "code",
   "execution_count": 9,
   "outputs": [
    {
     "data": {
      "text/plain": "<keras.callbacks.callbacks.History at 0x7efc35e02f70>"
     },
     "execution_count": 9,
     "metadata": {},
     "output_type": "execute_result"
    }
   ],
   "source": [
    "opt = tf.keras.optimizers.SGD(learning_rate=0.0001, momentum=0.0003)\n",
    "autoencoder.compile(optimizer=opt, loss='mse')\n",
    "autoencoder.fit(X_train, X_train, epochs=500, verbose=0)"
   ],
   "metadata": {
    "collapsed": false,
    "pycharm": {
     "name": "#%%\n"
    }
   }
  },
  {
   "cell_type": "code",
   "execution_count": 10,
   "outputs": [
    {
     "name": "stdout",
     "output_type": "stream",
     "text": [
      "[[0.14811783 0.03634981 0.05095791 ... 0.12085219 0.09309587 0.15506092]\n",
      " [0.1522454  0.03313317 0.05227542 ... 0.11953025 0.09533991 0.15931077]\n",
      " [0.15104969 0.03283983 0.05156869 ... 0.12113212 0.09453289 0.15900342]\n",
      " ...\n",
      " [0.15207121 0.03303975 0.05244446 ... 0.11968694 0.09517601 0.15947013]\n",
      " [0.15182284 0.03355514 0.0529317  ... 0.11808484 0.09608057 0.1585944 ]\n",
      " [0.15221483 0.03270576 0.05189046 ... 0.1203957  0.09518449 0.15959795]]\n"
     ]
    }
   ],
   "source": [
    "predictions = autoencoder.predict(X_test)\n",
    "print(predictions)"
   ],
   "metadata": {
    "collapsed": false,
    "pycharm": {
     "name": "#%%\n"
    }
   }
  },
  {
   "cell_type": "code",
   "execution_count": 11,
   "outputs": [
    {
     "name": "stdout",
     "output_type": "stream",
     "text": [
      "[array([[-0.05963796, -0.0510705 , -0.01776614,  0.01988005,  0.0677663 ,\n",
      "        -0.01868385,  0.01504957,  0.01619641, -0.00223189,  0.0251342 ],\n",
      "       [-0.13281362, -0.07160412, -0.05942185,  0.0241575 ,  0.00640971,\n",
      "         0.03316759,  0.04365025, -0.03080972,  0.10990369, -0.04271519],\n",
      "       [-0.12151188,  0.00623415,  0.04993914,  0.04314667, -0.03217715,\n",
      "        -0.08348028, -0.05878751,  0.0665221 , -0.08115247, -0.05541814],\n",
      "       [ 0.0370336 , -0.03046222, -0.01607679,  0.00257707,  0.01523727,\n",
      "        -0.07822356, -0.00961096,  0.01302236, -0.02037694, -0.04175258],\n",
      "       [ 0.03129938, -0.04580081, -0.03659629,  0.07762717, -0.08224657,\n",
      "         0.02757943,  0.03595991, -0.01559734, -0.02189416,  0.04708374],\n",
      "       [-0.01150221, -0.06772973,  0.03652573,  0.04054084, -0.01247802,\n",
      "         0.07500248,  0.04051434,  0.04719415,  0.06134764, -0.09789661],\n",
      "       [ 0.01069033,  0.03212527, -0.03962505, -0.04219509,  0.00186454,\n",
      "         0.10049343,  0.08453096,  0.07680752, -0.04843067, -0.06049916],\n",
      "       [ 0.02677051, -0.01978604, -0.0237094 , -0.05225694, -0.02060899,\n",
      "        -0.02400453, -0.0609203 ,  0.02318803, -0.12554592,  0.06561081],\n",
      "       [-0.00558264, -0.01280814,  0.00768958,  0.09685109, -0.02960815,\n",
      "        -0.02378423, -0.14894897, -0.02367867,  0.01783704,  0.00199935],\n",
      "       [-0.08260863, -0.01631046, -0.00424318,  0.0531707 , -0.03629727,\n",
      "        -0.07568735, -0.00503999,  0.03835715, -0.04810297,  0.01191496]],\n",
      "      dtype=float32), array([ 3.6385652e-04,  5.8305275e-04,  5.2097428e-04, -3.8174752e-04,\n",
      "        2.1466786e-04,  1.0125783e-04,  4.2334377e-06,  4.1754570e-04,\n",
      "        1.5756798e-03,  3.0779009e-04], dtype=float32), array([[ 1.98366307e-02, -9.55237895e-02,  1.16831781e-02,\n",
      "        -3.30384076e-02,  7.66260102e-02, -3.37205455e-02,\n",
      "        -9.94046032e-03, -6.24033585e-02,  6.05636053e-02,\n",
      "         6.88755512e-02],\n",
      "       [ 1.11359604e-01,  4.08941275e-03,  1.51977222e-02,\n",
      "        -4.63216566e-02,  5.55506498e-02, -3.24111469e-02,\n",
      "         1.74319707e-02,  1.29193842e-01,  4.23650555e-02,\n",
      "        -1.72741257e-03],\n",
      "       [ 2.21103486e-02,  1.37313651e-02,  4.82658111e-02,\n",
      "         1.19208165e-01,  1.54556078e-03,  1.50831593e-02,\n",
      "        -3.06470529e-03,  7.03624170e-03, -4.33629975e-02,\n",
      "         7.22393277e-04],\n",
      "       [-1.78568326e-02, -3.35147902e-02,  7.52745243e-03,\n",
      "        -1.16413245e-02,  8.54697451e-03,  1.78073521e-03,\n",
      "        -5.00257127e-02,  7.63132572e-02,  4.57166787e-03,\n",
      "         1.42452521e-02],\n",
      "       [-2.36772168e-02, -2.34219786e-02, -6.79323897e-02,\n",
      "         2.99366638e-02,  3.71349715e-02, -5.18363751e-02,\n",
      "         1.18848011e-02,  6.95304647e-02, -4.44981493e-02,\n",
      "         7.20452443e-02],\n",
      "       [ 1.60104223e-02,  4.61932644e-02,  2.89135668e-02,\n",
      "         3.72560546e-02, -1.19578466e-02, -3.52833606e-02,\n",
      "        -1.27279165e-03, -2.65705641e-02, -1.36293974e-02,\n",
      "         2.50518881e-02],\n",
      "       [ 8.50329548e-02,  6.40733913e-02,  3.92425731e-02,\n",
      "        -1.89237427e-02,  1.99788976e-02,  3.00802421e-02,\n",
      "        -5.71194738e-02, -7.25746602e-02,  2.74979379e-02,\n",
      "        -5.64308800e-02],\n",
      "       [ 1.16367666e-02,  4.00953107e-02, -4.02637088e-05,\n",
      "         1.16075343e-02,  4.98279817e-02,  4.75426065e-03,\n",
      "        -1.06151879e-01,  8.40292424e-02, -8.77542607e-03,\n",
      "         2.09590737e-02],\n",
      "       [ 2.92925369e-02,  6.17252337e-03,  3.09986770e-02,\n",
      "         8.22188109e-02,  9.16299038e-03,  7.43169221e-04,\n",
      "         1.12816781e-01, -7.24442350e-03,  1.10048205e-01,\n",
      "         4.39039059e-02],\n",
      "       [ 2.90142223e-02,  3.14633711e-03, -1.80972181e-02,\n",
      "         3.96141186e-02, -1.22332044e-01,  8.77502039e-02,\n",
      "         2.50938199e-02,  3.32095549e-02,  2.55855136e-02,\n",
      "         6.78365007e-02]], dtype=float32), array([0.01419404, 0.01943807, 0.00439619, 0.02211859, 0.03269598,\n",
      "       0.0209277 , 0.01107142, 0.00498129, 0.01660401, 0.03370848],\n",
      "      dtype=float32)]\n"
     ]
    }
   ],
   "source": [
    "weights = autoencoder.get_weights()\n",
    "print(weights)"
   ],
   "metadata": {
    "collapsed": false,
    "pycharm": {
     "name": "#%%\n"
    }
   }
  },
  {
   "cell_type": "code",
   "execution_count": 12,
   "outputs": [],
   "source": [
    "from scipy.spatial import distance\n",
    "anomaly_user_score = []\n",
    "\n",
    "for i in range(0, X_test.shape[0]):\n",
    "    # distance = math.sqrt(sum([(a - b) ** 2 for a, b in zip(X_train.iloc[i], X_test.iloc[i])]))\n",
    "    # dist = np.linalg.norm(X_train.iloc[i]-X_test.iloc[i])\n",
    "    dist = distance.euclidean(X_test.iloc[i], predictions[i])\n",
    "\n",
    "    anomaly_user_score.append(dist)"
   ],
   "metadata": {
    "collapsed": false,
    "pycharm": {
     "name": "#%%\n"
    }
   }
  },
  {
   "cell_type": "code",
   "execution_count": 13,
   "outputs": [
    {
     "name": "stdout",
     "output_type": "stream",
     "text": [
      "200\n"
     ]
    }
   ],
   "source": [
    "print(len(anomaly_user_score))"
   ],
   "metadata": {
    "collapsed": false,
    "pycharm": {
     "name": "#%%\n"
    }
   }
  },
  {
   "cell_type": "code",
   "execution_count": 14,
   "outputs": [
    {
     "name": "stdout",
     "output_type": "stream",
     "text": [
      "[1.7737735616937604, 0.7025427658987259, 0.8385257903044053, 0.8698856112642824, 1.067924988878341, 0.8090146844588936, 1.4159027780109308, 0.5600582986487247, 0.6801223577393385, 0.8159027222683285, 0.614869364109593, 0.6236433529354685, 0.6681964595510768, 1.1372766465552664, 1.1391154098550158, 0.5920875808883114, 1.1938940594684455, 0.5876941840162323, 0.688728908975877, 0.6365705574200805, 0.6767887240609858, 0.718086572357541, 0.6612625564219704, 0.5876788367883901, 0.662952820769802, 0.6253919115494464, 0.6194382403332822, 0.5829967545846411, 0.6614211934803604, 0.6280215270354692, 0.6026993487964034, 0.6424398374903268, 0.5972409632885733, 0.563035015437396, 0.6210368403390353, 0.5967127467805298, 0.5742449891872897, 0.5927838999801927, 0.6182624001803227, 0.6072425045604808, 0.6177859307326946, 0.5910013037961053, 0.6395391819501655, 0.6711360706313474, 0.6735518054445516, 0.6743697466819392, 0.7167857167188839, 0.6247453213174119, 0.6539037793309466, 0.6547433993380956, 1.1115841453835187, 0.7268517053632386, 0.8073045624191837, 0.6299788675308055, 0.5964480167519931, 0.6404801459284719, 1.9283559168448352, 0.655440601625236, 1.5611125076097527, 0.6270990874570329, 0.7018350123589692, 0.5565412517944803, 0.5352401222113832, 0.6099435294379626, 0.5612212761776684, 0.5441420506986117, 0.5402760394772622, 0.556679760253153, 0.5626847789281068, 0.5899746935803146, 0.5622668406435093, 0.5366493426711841, 0.535432124424868, 0.4763438417865216, 0.5322001968245901, 0.5793079111597812, 0.5778030841790088, 0.6109077999557065, 0.5507416504595276, 0.6985102579181365, 0.5125375455887992, 0.5621167698659143, 0.5052094694271358, 0.5132126810192369, 0.5190736440265108, 2.066414345772701, 0.5256769512519524, 0.5050821061150453, 0.7347257655971101, 0.5564112639142683, 0.571614989809728, 0.5399524610783938, 0.5033387757180559, 0.5851480465215027, 0.6564317243464737, 0.6166597366602078, 0.6114561590222093, 0.5605851497249262, 0.5716287766819587, 0.7258227930502718, 1.2943020479368954, 0.6089638527288292, 1.214143056822992, 0.6556957319847394, 0.5933264135713047, 0.5934174038468834, 0.9474586392134281, 0.5918643598044188, 0.626947065430964, 0.5955430252667971, 0.6314594428469023, 0.6594384971868724, 0.5755476459196769, 0.5799181196834986, 0.5804976677106581, 0.5357513233311791, 0.578509763388989, 0.5387171226236498, 0.5767298565839264, 0.5375515807270832, 0.7338019404318848, 0.5465892225403427, 0.5629938890724067, 0.5518461993296365, 0.5962752910529542, 0.5689537660141951, 0.5592726933733885, 0.5317459138748615, 0.5976077809320682, 0.6262724803764113, 0.5225659721170272, 0.5256309389155761, 0.8021697284374755, 0.5511090756542125, 0.5991497298276071, 0.5328763273843592, 0.6660869774497253, 0.537359206934819, 0.6044708332673625, 0.5232398816860381, 0.65919604030076, 1.6980054445429877, 0.5496510492235206, 0.5213455212093361, 0.5665200969625271, 0.5422124241824311, 0.9178885868996473, 0.8599449450440586, 0.5826968340955728, 0.6627993580445817, 0.6833216515104301, 0.609421328535849, 0.6738013870099738, 0.6919059597122637, 0.5855489377237004, 0.5844404486800271, 0.5516436053712496, 0.5567227032096616, 0.5436104087720933, 0.5678255206094934, 0.5424572475430411, 0.634028470858448, 0.6947277008604572, 0.5560495624788583, 0.5869450146644607, 0.5748463106592349, 0.5454824115499484, 0.5455516693581026, 0.5095427161935883, 0.5418630529219679, 0.5363736794726386, 0.5118701996093346, 0.5076528771143453, 0.5425747740486845, 0.5023382480997709, 0.5615106509673193, 0.5333980677207294, 0.559676846240816, 0.5224799946016012, 0.5143247161198483, 0.5411015868400855, 0.5531179234543749, 0.5251591643426207, 0.6006194412968694, 0.5837935644337525, 0.5558805367536753, 0.6340842555080777, 0.5969913774105684, 0.5823609168706333, 0.5862231605315275, 0.5956551290040749, 0.5706206874319758, 0.5409788797831018, 0.5996121688557854, 0.5167389258366768, 0.5348844381440443, 0.6855719849496715, 0.6965152806626843, 1.1222577504188278, 0.5509906063844958]\n"
     ]
    }
   ],
   "source": [
    "print(anomaly_user_score)"
   ],
   "metadata": {
    "collapsed": false,
    "pycharm": {
     "name": "#%%\n"
    }
   }
  },
  {
   "cell_type": "markdown",
   "metadata": {
    "pycharm": {
     "name": "#%% md\n"
    }
   },
   "source": [
    "Multiple impostors"
   ]
  },
  {
   "cell_type": "code",
   "execution_count": 15,
   "metadata": {
    "pycharm": {
     "name": "#%%\n"
    }
   },
   "outputs": [
    {
     "name": "stdout",
     "output_type": "stream",
     "text": [
      "[2, 3, 4, 5, 7, 8, 10, 11, 12, 13, 15, 16, 17, 18, 20, 21, 22, 24, 25, 26, 27, 28, 29, 30, 31, 32, 33, 34, 35, 36, 37, 38, 39, 40, 41, 42, 43, 44, 46, 47, 48, 49, 50, 51, 52, 53, 54, 55, 56, 57]\n"
     ]
    }
   ],
   "source": [
    "# test phase of detector of impostor\n",
    "i = 0\n",
    "\n",
    "subjects_to_iterate = subjects\n",
    "subjects_to_iterate.remove(s_id)\n",
    "print(subjects_to_iterate)"
   ]
  },
  {
   "cell_type": "code",
   "execution_count": 16,
   "metadata": {
    "pycharm": {
     "name": "#%%\n"
    }
   },
   "outputs": [],
   "source": [
    "anomaly_impostor_score = []\n",
    "for x in subjects_to_iterate:\n",
    "\n",
    "    # get impostor dataframe\n",
    "    si = data[data[\"subject\"] == x]\n",
    "    Xi = si[si.columns.drop(['subject'])]\n",
    "    Xi_test = Xi.head(5)\n",
    "\n",
    "    # test the first five\n",
    "\n",
    "    ## Neural Network\n",
    "    tmp_impostor_score = []\n",
    "    predictions = autoencoder.predict(Xi_test)\n",
    "    for i in range(0, Xi_test.shape[0]):\n",
    "        dist = distance.euclidean(Xi_test.iloc[i], predictions[i])\n",
    "        tmp_impostor_score.append(dist)\n",
    "\n",
    "    # record the results\n",
    "    # if it is the first time, save it as base\n",
    "    if i == 0:\n",
    "        anomaly_impostor_score = tmp_impostor_score\n",
    "    # append it to existing if not the first one\n",
    "    else:\n",
    "        anomaly_impostor_score = np.append(anomaly_impostor_score, tmp_impostor_score)\n",
    "\n",
    "    i = i +1"
   ]
  },
  {
   "cell_type": "code",
   "execution_count": 17,
   "metadata": {
    "pycharm": {
     "name": "#%%\n"
    }
   },
   "outputs": [
    {
     "name": "stdout",
     "output_type": "stream",
     "text": [
      "[2.05897261 1.53956125 1.33943957 1.709729   1.36508628 0.99735495\n",
      " 1.00919469 0.8616161  1.19322972 1.28469029 1.00923298 1.63177921\n",
      " 1.26544576 1.21711833 0.99959742 2.12545963 1.78365774 1.91347342\n",
      " 1.30342492 1.18747165 1.11709676 0.9626195  1.06516194 1.14360221\n",
      " 0.59242981 0.91800795 0.77196665 0.62930906 0.67233827 0.64695536\n",
      " 0.75777545 0.87088855 0.74774847 0.76294496 0.34989432 0.88141552\n",
      " 0.67456072 0.57289267 0.78194524 1.43536847 1.27933096 1.31993546\n",
      " 1.0591144  1.63335619 1.45538066 0.98104009 0.41912943 0.87833679\n",
      " 0.88707916 0.61438675 1.08231473 1.01687732 0.58535128 0.55225246\n",
      " 1.0251768  1.7394972  1.82517178 1.59185746 1.88983916 1.75412568\n",
      " 0.5556398  1.43855343 0.59884678 0.57287571 0.63006391 1.51093712\n",
      " 1.27976646 1.29484404 1.0792662  0.66897928 2.42352786 0.89932574\n",
      " 1.01488256 0.68753109 0.69459716 1.62549612 1.18502375 0.72839772\n",
      " 0.56553402 0.63910899 3.00974434 2.69430817 2.70472357 2.75312861\n",
      " 2.6172465  1.24384683 1.57318862 1.80921747 1.2069556  0.85257468\n",
      " 1.64632387 1.74522278 1.06389049 1.18267376 1.03598554 0.6705209\n",
      " 0.78130592 0.63966745 0.61885199 0.47119515 1.64444843 1.34824909\n",
      " 1.79634984 1.15534798 0.83081415 1.03952512 0.94275694 1.34093153\n",
      " 0.94487773 0.78605155 0.81242554 0.71987723 0.93258178 0.57108267\n",
      " 0.65383967 5.65131435 1.35035371 1.00691717 2.91835226 1.10515147\n",
      " 1.19795717 1.37336611 1.08407349 1.15135047 1.02767097 1.95382917\n",
      " 2.01383694 0.94724928 0.81504914 0.72522134 2.1794674  1.1940311\n",
      " 1.42670261 1.69626691 1.34217398 1.27115048 0.87494022 1.18088438\n",
      " 1.23884259 0.93960816 2.25146906 1.09167326 1.40978993 1.11356937\n",
      " 1.05024075 4.13435474 2.90574754 2.88131451 3.40668766 3.29883752\n",
      " 1.22816774 1.17578742 0.62386775 1.94289959 0.54012025 2.69911675\n",
      " 1.56049577 2.13624747 0.70207127 1.20364489 1.64828664 1.13272344\n",
      " 1.08077548 0.92746906 0.96169591 2.8548825  2.42631015 2.47695736\n",
      " 1.54535151 1.39633238 1.31849732 0.86090641 0.57906712 1.03264466\n",
      " 0.69514667 1.30135363 1.75176774 1.14157488 1.30774998 0.93104603\n",
      " 2.92244388 2.49126965 2.09789257 1.72703272 2.35483766 2.82206601\n",
      " 2.11627845 2.4310683  1.27995245 2.15734641 1.81273329 1.78027342\n",
      " 1.66484636 1.50343913 1.54259254 6.01037776 2.04443882 1.61291569\n",
      " 2.46106315 1.69147843 1.01696791 0.9023258  1.004764   0.88408706\n",
      " 1.11303262 4.58702947 4.20049866 4.00013602 2.37872036 4.08877708\n",
      " 1.57894078 1.0467845  0.85518274 0.78454834 0.79179227 0.74140316\n",
      " 0.69813818 0.98946069 0.56702608 0.60349171 1.7584817  2.46375695\n",
      " 1.56081853 1.56323785 1.03450937 1.03190341 0.51484476 0.52223082\n",
      " 0.45963828 0.6567932  1.60794044 1.29697069 1.15101349 0.76853183\n",
      " 1.50127976 0.40371118 0.70596294 0.56650691 1.05698884 0.4407895\n",
      " 0.68496356 1.36517259 1.09739425 1.06756042 0.78712637 0.47029988\n",
      " 0.65295089 0.61148853 0.55959535 0.53191765]\n"
     ]
    }
   ],
   "source": [
    "print(anomaly_impostor_score)"
   ]
  },
  {
   "cell_type": "markdown",
   "metadata": {
    "pycharm": {
     "name": "#%% md\n"
    }
   },
   "source": [
    "## Threshold for acceptance\n",
    "\n",
    "Assuming Gaussian distribution"
   ]
  },
  {
   "cell_type": "code",
   "execution_count": 18,
   "metadata": {
    "pycharm": {
     "name": "#%%\n"
    }
   },
   "outputs": [
    {
     "name": "stdout",
     "output_type": "stream",
     "text": [
      "0.34989431783044284\n",
      "6.0103777551450905\n"
     ]
    }
   ],
   "source": [
    "user_mean = np.mean(anomaly_user_score)\n",
    "user_std = np.std(anomaly_user_score)\n",
    "user_min = np.min(anomaly_user_score)\n",
    "user_max = np.max(anomaly_user_score)\n",
    "\n",
    "impostor_mean = np.mean(anomaly_impostor_score)\n",
    "impostor_std = np.std(anomaly_impostor_score)\n",
    "impostor_min = np.min(anomaly_impostor_score)\n",
    "impostor_max = np.max(anomaly_impostor_score)\n",
    "\n",
    "if user_max >= impostor_max:\n",
    "    plot_max = user_max\n",
    "else:\n",
    "    plot_max = impostor_max\n",
    "\n",
    "if user_min <= impostor_min:\n",
    "    plot_min = user_min\n",
    "else:\n",
    "    plot_min = impostor_min\n",
    "\n",
    "print(plot_min)\n",
    "print(plot_max)"
   ]
  },
  {
   "cell_type": "code",
   "execution_count": 26,
   "metadata": {
    "pycharm": {
     "name": "#%%\n"
    }
   },
   "outputs": [
    {
     "data": {
      "text/plain": "<Figure size 720x720 with 1 Axes>",
      "image/png": "[encoded data removed]"
     },
     "metadata": {
      "needs_background": "light"
     },
     "output_type": "display_data"
    }
   ],
   "source": [
    "# Plotting\n",
    "plt.figure(figsize=(10,10))\n",
    "\n",
    "x = np.linspace(plot_min, plot_max, 100)\n",
    "\n",
    "y_user = scipy.stats.norm.pdf(x,user_mean,user_std)\n",
    "y_impostor = scipy.stats.norm.pdf(x,impostor_mean,impostor_std)\n",
    "\n",
    "plt.plot(x,y_user, color='xkcd:green')\n",
    "plt.plot(x,y_impostor, color='xkcd:coral')\n",
    "\n",
    "\n",
    "plt.grid()\n",
    "\n",
    "plt.xlim(plot_min,10)\n",
    "plt.ylim(0,1)\n",
    "\n",
    "plt.xlabel('x')\n",
    "plt.ylabel('Normal Distribution')\n",
    "\n",
    "# plt.savefig(\"normal_distribution_user_impostor.png\")\n",
    "plt.show()"
   ]
  },
  {
   "cell_type": "code",
   "execution_count": 20,
   "metadata": {
    "pycharm": {
     "name": "#%%\n"
    }
   },
   "outputs": [],
   "source": [
    "fpr = [1]\n",
    "tpr = [1]\n",
    "threshold = [0]\n",
    "\n",
    "# For each possible threshold\n",
    "for t in np.arange(0, int(plot_max), 0.01):\n",
    "    \n",
    "    y_score = []\n",
    "    y_true = []\n",
    "\n",
    "    # False alarm rate so False Positive Rate\n",
    "    # Every user mistaken as impostor\n",
    "    for e in anomaly_user_score:\n",
    "\n",
    "        # true label\n",
    "        y_true.append(0)\n",
    "\n",
    "        # print(\"score : \" + str(e))\n",
    "        # print(\"threshold : \" + str(t))\n",
    "        # score label\n",
    "        if e > t:\n",
    "            y_score.append(1)\n",
    "        else:\n",
    "            y_score.append(0)\n",
    "\n",
    "        # print(y_score)\n",
    "\n",
    "    # Hit Rate so True Positive Rate\n",
    "    # Every impostor as user\n",
    "    for e in anomaly_impostor_score:\n",
    "\n",
    "        # true label\n",
    "        y_true.append(1)\n",
    "\n",
    "        # score label\n",
    "        if e > t:\n",
    "            y_score.append(1)\n",
    "        else:\n",
    "            y_score.append(0)\n",
    "\n",
    "    tn, fp, fn, tp = confusion_matrix(y_true, y_score).ravel()\n",
    "    # print(\"True Negative : \" + str(tn))\n",
    "    # print(\"False Positive : \" + str(fp))\n",
    "    # print(\"False Negative : \" + str(fn))\n",
    "    # print(\"True Positive : \" + str(tp))\n",
    "\n",
    "    p = tp + fn\n",
    "    n = fp + tn\n",
    "\n",
    "    temp_fpr = fp / n\n",
    "    temp_tpr = tp / p\n",
    "    # print(\"False Positive Rate : \" + str(fpr))\n",
    "    # print(\"True Positive Rate : \" + str(tpr))\n",
    "\n",
    "    fpr.append(temp_fpr)\n",
    "    tpr.append(temp_tpr)\n",
    "    threshold.append(t)\n",
    "\n",
    "\n",
    "fpr.append(0)\n",
    "tpr.append(0)\n",
    "threshold.append(int(plot_max))"
   ]
  },
  {
   "cell_type": "code",
   "execution_count": 21,
   "outputs": [
    {
     "name": "stdout",
     "output_type": "stream",
     "text": [
      "602\n",
      "602\n",
      "602\n"
     ]
    }
   ],
   "source": [
    "print(len(fpr))\n",
    "print(len(tpr))\n",
    "print(len(threshold))"
   ],
   "metadata": {
    "collapsed": false,
    "pycharm": {
     "name": "#%%\n"
    }
   }
  },
  {
   "cell_type": "code",
   "execution_count": 22,
   "metadata": {
    "pycharm": {
     "name": "#%%\n"
    }
   },
   "outputs": [
    {
     "data": {
      "text/plain": "<Figure size 720x720 with 1 Axes>",
      "image/png": "[encoded data removed]"
     },
     "metadata": {
      "needs_background": "light"
     },
     "output_type": "display_data"
    }
   ],
   "source": [
    "plt.figure(figsize=(10,10))\n",
    "plt.plot(fpr, tpr, color='xkcd:green',)\n",
    "plt.xlabel('False Positive Rate / False Alarm Rate')\n",
    "plt.ylabel('True Positive Rate / Hit Rate ')\n",
    "plt.title('ROC cruve')\n",
    "plt.show()"
   ]
  },
  {
   "cell_type": "code",
   "execution_count": 23,
   "outputs": [
    {
     "name": "stdout",
     "output_type": "stream",
     "text": [
      "0.173125\n"
     ]
    }
   ],
   "source": [
    "# Calculate EER\n",
    "\n",
    "# TODO: is this correct manner ?\n",
    "eer = brentq(lambda x : 1. - x - interp1d(fpr, tpr)(x), 0., 1.)\n",
    "thresh = interp1d(fpr, threshold)(eer)\n",
    "\n",
    "print(eer)\n",
    "# print(thresh)"
   ],
   "metadata": {
    "collapsed": false,
    "pycharm": {
     "name": "#%%\n"
    }
   }
  },
  {
   "cell_type": "code",
   "execution_count": 24,
   "outputs": [
    {
     "name": "stdout",
     "output_type": "stream",
     "text": [
      "1.0\n"
     ]
    }
   ],
   "source": [
    "# Calculate the zero-miss false-alarm rate\n",
    "\n",
    "# This is when the Hit Rate is equal 1 / Miss Rate is 0\n",
    "\n",
    "for index, val in enumerate(tpr):\n",
    "    # print(val)\n",
    "    if val == 1:\n",
    "        zero_miss_false_alarm = fpr[index]\n",
    "\n",
    "print(zero_miss_false_alarm)"
   ],
   "metadata": {
    "collapsed": false,
    "pycharm": {
     "name": "#%%\n"
    }
   }
  },
  {
   "cell_type": "code",
   "execution_count": 24,
   "outputs": [],
   "source": [],
   "metadata": {
    "collapsed": false,
    "pycharm": {
     "name": "#%%"
    }
   }
  }
 ],
 "metadata": {
  "kernelspec": {
   "name": "python372jvsc74a57bd04cd7ab41f5fca4b9b44701077e38c5ffd31fe66a6cab21e0214b68d958d0e462",
   "display_name": "Python 3.7.2 64-bit"
  },
  "language_info": {
   "codemirror_mode": {
    "name": "ipython",
    "version": 3
   },
   "file_extension": ".py",
   "mimetype": "text/x-python",
   "name": "python",
   "nbconvert_exporter": "python",
   "pygments_lexer": "ipython3",
   "version": "3.7.2"
  },
  "metadata": {
   "interpreter": {
    "hash": "4cd7ab41f5fca4b9b44701077e38c5ffd31fe66a6cab21e0214b68d958d0e462"
   }
  }
 },
 "nbformat": 4,
 "nbformat_minor": 2
}