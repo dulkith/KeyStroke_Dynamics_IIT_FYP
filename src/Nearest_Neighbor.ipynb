{
 "cells": [
  {
   "cell_type": "markdown",
   "metadata": {},
   "source": [
    "# Reimplementation of the best performing algorithm from Killourhy and Maxion's research paper for static authentication \n",
    "\n",
    "Comparing Anomaly-Detection Algorithms for Keystroke Dynamics"
   ]
  },
  {
   "cell_type": "code",
   "execution_count": 1,
   "metadata": {},
   "outputs": [],
   "source": [
    "import pandas as pd\n",
    "import numpy as np\n",
    "import sklearn as sc\n",
    "import matplotlib.pyplot as plt\n",
    "import scipy.stats\n",
    "from sklearn import metrics\n",
    "from sklearn.covariance import EmpiricalCovariance, MinCovDet\n",
    "from sklearn.model_selection import train_test_split\n",
    "from sklearn.neighbors import DistanceMetric\n",
    "from sklearn.neighbors import NearestNeighbors\n",
    "from sklearn.neighbors import KNeighborsClassifier\n",
    "from matplotlib.pyplot import figure\n",
    "from sklearn.metrics import roc_curve, auc, roc_auc_score\n",
    "from scipy.optimize import brentq\n",
    "from scipy.interpolate import interp1d\n",
    "from sklearn.metrics import confusion_matrix"
   ]
  },
  {
   "cell_type": "markdown",
   "metadata": {},
   "source": [
    "# Load Data"
   ]
  },
  {
   "cell_type": "code",
   "execution_count": 3,
   "outputs": [],
   "source": [
    "def load_dataset(name):\n",
    "    data = pd.read_csv(name)\n",
    "\n",
    "    if len(data.columns) > 12:\n",
    "        # Original dataset\n",
    "        data = data[data.columns.drop(list(data.filter(regex='H')))]\n",
    "        data = data[data.columns.drop(list(data.filter(regex='UD')))]\n",
    "\n",
    "        data_columns = data[data.columns.drop(['sessionIndex', 'rep', 'subject'])].columns\n",
    "        data = data[data.columns.drop(['sessionIndex', 'rep'])]\n",
    "        data[\"subject\"] = data[\"subject\"].apply(lambda x: int(x[1:]))\n",
    "\n",
    "    else:\n",
    "        # Network dataset\n",
    "        data = data[data.columns.drop(['Unnamed: 0'])]\n",
    "\n",
    "    return data\n",
    "\n",
    "\n",
    "# Original dataset\n",
    "# data = load_dataset(\"datasets/killourhy_maxion_password.csv\")\n",
    "\n",
    "# Network dataset\n",
    "data = load_dataset(\"network_gns3/data_over_network_0_latency_0_jitter.csv\")"
   ],
   "metadata": {
    "collapsed": false,
    "pycharm": {
     "name": "#%%\n"
    }
   }
  },
  {
   "cell_type": "code",
   "execution_count": 4,
   "metadata": {},
   "outputs": [],
   "source": [
    "## Original data\n",
    "#\n",
    "# data = pd.read_csv(\"../datasets/Fixed/killourhy_maxion_password.csv\")\n",
    "# data[\"subject\"] = data[\"subject\"].apply(lambda x: int(x[1:]))\n",
    "subjects = data.subject.unique().tolist()\n",
    "\n",
    "\n",
    "# data = data[data.columns.drop(list(data.filter(regex='H')))]\n",
    "# data = data[data.columns.drop(list(data.filter(regex='UD')))]\n",
    "# data = data[data.columns.drop(['sessionIndex', 'rep'])]\n",
    "# data.head()"
   ]
  },
  {
   "cell_type": "code",
   "execution_count": 5,
   "outputs": [],
   "source": [
    "## Network data\n",
    "\n",
    "# data = pd.read_csv(\"data_over_network.csv\")"
   ],
   "metadata": {
    "collapsed": false,
    "pycharm": {
     "name": "#%%\n"
    }
   }
  },
  {
   "cell_type": "code",
   "execution_count": 6,
   "outputs": [],
   "source": [
    "s_id = 2\n",
    "\n",
    "# create dataset of this user\n",
    "s = data[data[\"subject\"] == s_id]\n",
    "X = s[s.columns.drop(['subject'])]\n",
    "\n",
    "# divide between train and test\n",
    "X_train = X.head(200)\n",
    "X_test = X.tail(200)\n"
   ],
   "metadata": {
    "collapsed": false,
    "pycharm": {
     "name": "#%%\n"
    }
   }
  },
  {
   "cell_type": "markdown",
   "metadata": {
    "pycharm": {
     "name": "#%% md\n"
    }
   },
   "source": [
    "# NN Mahalanobis"
   ]
  },
  {
   "cell_type": "code",
   "execution_count": 7,
   "outputs": [],
   "source": [
    "from sklearn.covariance import MinCovDet\n",
    "\n",
    "# robust_cov = MinCovDet().fit(X)\n",
    "# print(robust_cov.covariance_)\n",
    "# V = robust_cov.covariance_"
   ],
   "metadata": {
    "collapsed": false,
    "pycharm": {
     "name": "#%%\n"
    }
   }
  },
  {
   "cell_type": "code",
   "execution_count": 8,
   "outputs": [],
   "source": [
    "from sklearn.covariance import EmpiricalCovariance\n",
    "\n",
    "# emp_cov = EmpiricalCovariance().fit(X_train)\n",
    "# print(emp_cov.covariance_)\n",
    "# V = emp_cov.covariance_"
   ],
   "metadata": {
    "collapsed": false,
    "pycharm": {
     "name": "#%%\n"
    }
   }
  },
  {
   "cell_type": "code",
   "execution_count": 9,
   "outputs": [],
   "source": [
    "# # calculate covariance matrix\n",
    "# V = np.cov(X_train, rowvar=False)\n",
    "# print(V)"
   ],
   "metadata": {
    "collapsed": false,
    "pycharm": {
     "name": "#%%\n"
    }
   }
  },
  {
   "cell_type": "code",
   "execution_count": 88,
   "outputs": [],
   "source": [
    "# # By hand covariance\n",
    "#\n",
    "# N = X_train.shape[1]\n",
    "# X = X_train.to_numpy()\n",
    "# X -= X.mean(axis=0)\n",
    "# fact = N - 1\n",
    "# by_hand = np.dot(X.T, X.conj()) / fact\n",
    "#\n",
    "# print(by_hand)\n",
    "# V = by_hand"
   ],
   "metadata": {
    "collapsed": false,
    "pycharm": {
     "name": "#%%\n"
    }
   }
  },
  {
   "cell_type": "code",
   "execution_count": 10,
   "outputs": [
    {
     "output_type": "stream",
     "name": "stdout",
     "text": [
      "                 DD.period.t    DD.t.i    DD.i.e  DD.e.five  DD.five.Shift.r  \\\nDD.period.t         0.007079  0.000546  0.000921   0.006856         0.003818   \nDD.t.i              0.000546  0.001213  0.000286   0.000528        -0.000598   \nDD.i.e              0.000921  0.000286  0.005502   0.004280         0.000866   \nDD.e.five           0.006856  0.000528  0.004280   0.054531         0.021041   \nDD.five.Shift.r     0.003818 -0.000598  0.000866   0.021041         0.050671   \nDD.Shift.r.o        0.002536 -0.000008  0.000838   0.014649         0.015032   \nDD.o.a              0.000039  0.000106 -0.000029   0.001961         0.001755   \nDD.a.n              0.001101  0.000165  0.000081   0.005821         0.002813   \nDD.n.l              0.000102 -0.000066  0.000033   0.002865         0.003547   \nDD.l.Return         0.001252 -0.000066  0.000518   0.009462         0.005991   \n\n                 DD.Shift.r.o    DD.o.a    DD.a.n    DD.n.l  DD.l.Return  \nDD.period.t          0.002536  0.000039  0.001101  0.000102     0.001252  \nDD.t.i              -0.000008  0.000106  0.000165 -0.000066    -0.000066  \nDD.i.e               0.000838 -0.000029  0.000081  0.000033     0.000518  \nDD.e.five            0.014649  0.001961  0.005821  0.002865     0.009462  \nDD.five.Shift.r      0.015032  0.001755  0.002813  0.003547     0.005991  \nDD.Shift.r.o         0.016476  0.002122  0.002565  0.001848     0.003446  \nDD.o.a               0.002122  0.002824  0.000950  0.001191     0.000621  \nDD.a.n               0.002565  0.000950  0.003243  0.001665     0.000513  \nDD.n.l               0.001848  0.001191  0.001665  0.005422     0.001410  \nDD.l.Return          0.003446  0.000621  0.000513  0.001410     0.012880  \n"
     ]
    }
   ],
   "source": [
    "V = pd.DataFrame.cov(X_train)\n",
    "print(V)"
   ],
   "metadata": {
    "collapsed": false,
    "pycharm": {
     "name": "#%%\n"
    }
   }
  },
  {
   "cell_type": "code",
   "execution_count": 12,
   "outputs": [],
   "source": [
    "# training phase of detector\n",
    "# nn = NearestNeighbors(n_neighbors=1, metric='mahalanobis', metric_params={'V' : V})\n",
    "# nn = NearestNeighbors(n_neighbors=1, metric='mahalanobis', metric_params={'V' : V}, algorithm='brute')\n",
    "# nn = NearestNeighbors(n_neighbors=1, metric='mahalanobis', metric_params={'VI' : np.linalg.inv(V)}, algorithm='brute')\n",
    "nn = NearestNeighbors(n_neighbors=1, metric='mahalanobis', metric_params={'V' : V, 'VI' : np.linalg.inv(V)}, algorithm='brute')\n",
    "nn.fit(X_train)\n",
    "\n",
    "# test phase of detector of user\n",
    "anomaly_user_score, indices = nn.kneighbors(X_test)"
   ],
   "metadata": {
    "collapsed": false,
    "pycharm": {
     "name": "#%%\n"
    }
   }
  },
  {
   "cell_type": "code",
   "execution_count": 13,
   "outputs": [
    {
     "output_type": "stream",
     "name": "stdout",
     "text": [
      "[[0.83979184]\n [0.63904676]\n [2.01495521]\n [1.0006913 ]\n [0.98427869]\n [0.99153883]\n [0.7180197 ]\n [1.13198164]\n [0.82195393]\n [2.0060822 ]\n [0.82843092]\n [2.02678586]\n [2.52849684]\n [1.48581353]\n [1.31584316]\n [1.01955145]\n [1.26442182]\n [1.16431661]\n [0.9399775 ]\n [3.76087697]\n [1.13722239]\n [1.6741814 ]\n [0.93565478]\n [2.05022973]\n [2.68363213]\n [4.19499543]\n [0.77347151]\n [1.99716642]\n [0.94523133]\n [2.69272075]\n [1.00854053]\n [1.20765674]\n [1.55537921]\n [1.14364446]\n [0.919684  ]\n [0.71424808]\n [0.91123316]\n [0.87937798]\n [0.59618169]\n [0.57240116]\n [0.56749826]\n [1.16887463]\n [1.26264391]\n [1.38002135]\n [1.57277297]\n [6.07534316]\n [1.24896414]\n [1.79330358]\n [1.06301223]\n [0.92040633]\n [1.11601283]\n [0.90795735]\n [0.93946314]\n [1.36480185]\n [1.41352187]\n [1.53482686]\n [1.15516661]\n [1.02557005]\n [1.04286584]\n [0.6651518 ]\n [1.53429872]\n [1.35520328]\n [1.22728026]\n [1.11683225]\n [1.6471613 ]\n [1.22419058]\n [1.34098613]\n [2.26691056]\n [0.37433655]\n [1.2477472 ]\n [1.13114277]\n [1.32898654]\n [1.11748929]\n [2.6720588 ]\n [0.99124243]\n [1.35634028]\n [1.19480283]\n [1.19635198]\n [0.81864119]\n [1.22306625]\n [2.88949251]\n [0.88866959]\n [3.76324318]\n [0.83552834]\n [1.17942856]\n [0.86995494]\n [1.03961918]\n [1.06554499]\n [1.0791191 ]\n [0.8595909 ]\n [0.97328461]\n [1.02104321]\n [0.83742535]\n [0.92178151]\n [1.09163811]\n [0.79163844]\n [0.62376585]\n [1.00155722]\n [0.88903968]\n [1.58634571]\n [1.65026639]\n [1.44386673]\n [1.12973894]\n [0.73618471]\n [0.75745734]\n [0.94350122]\n [1.26822303]\n [3.71725283]\n [1.07403459]\n [1.38736533]\n [1.84301115]\n [0.74077374]\n [0.88216224]\n [1.15189121]\n [0.73195891]\n [0.79182696]\n [2.51342643]\n [1.79164934]\n [0.81515889]\n [1.09438389]\n [1.05882336]\n [0.97870319]\n [2.82949961]\n [0.92273487]\n [1.06231691]\n [0.87063951]\n [0.84015414]\n [1.21959531]\n [0.9305993 ]\n [2.23911622]\n [1.69013544]\n [0.65613091]\n [0.98533027]\n [0.72308716]\n [0.8949972 ]\n [0.86255046]\n [3.38451148]\n [0.6147113 ]\n [1.1642637 ]\n [0.75552554]\n [3.12228066]\n [8.99848771]\n [0.80975441]\n [0.91363317]\n [0.76782567]\n [0.89805097]\n [1.03944797]\n [0.87476144]\n [0.77371308]\n [0.82916002]\n [2.90561827]\n [2.04440099]\n [2.54981894]\n [1.7440428 ]\n [1.54682077]\n [2.84399256]\n [0.96990265]\n [2.29915355]\n [2.05912225]\n [1.24108025]\n [2.17385663]\n [1.44329758]\n [1.35514528]\n [3.04554975]\n [2.02774154]\n [2.0059817 ]\n [2.73988108]\n [2.37004778]\n [1.16308513]\n [1.96520001]\n [1.40810899]\n [1.55662348]\n [2.41823383]\n [2.55466061]\n [1.99981298]\n [1.07651201]\n [1.17631051]\n [1.31291462]\n [1.59032323]\n [1.05041128]\n [1.06551551]\n [2.45194418]\n [1.35475536]\n [1.57498802]\n [1.3414533 ]\n [2.10609188]\n [3.75422412]\n [1.89149637]\n [2.34860222]\n [1.01035135]\n [1.72607673]\n [1.45639564]\n [4.62678413]\n [2.02822849]\n [1.78270546]\n [1.38506433]\n [1.1547376 ]\n [3.51373019]\n [1.79489896]\n [3.53763019]]\n"
     ]
    }
   ],
   "source": [
    "print(anomaly_user_score)"
   ],
   "metadata": {
    "collapsed": false,
    "pycharm": {
     "name": "#%%\n"
    }
   }
  },
  {
   "cell_type": "markdown",
   "metadata": {
    "pycharm": {
     "name": "#%% md\n"
    }
   },
   "source": [
    "Multiple impostors"
   ]
  },
  {
   "cell_type": "code",
   "execution_count": 14,
   "metadata": {
    "pycharm": {
     "name": "#%%\n"
    }
   },
   "outputs": [
    {
     "output_type": "stream",
     "name": "stdout",
     "text": [
      "[3, 4, 5, 7, 8, 10, 11, 12, 13, 15, 16, 17, 18, 19, 20, 21, 22, 24, 25, 26, 27, 28, 29, 30, 31, 32, 33, 34, 35, 36, 37, 38, 39, 40, 41, 42, 43, 44, 46, 47, 48, 49, 50, 51, 52, 53, 54, 55, 56, 57]\n"
     ]
    }
   ],
   "source": [
    "# test phase of detector of impostor\n",
    "i = 0\n",
    "\n",
    "subjects_to_iterate = subjects\n",
    "subjects_to_iterate.remove(s_id)\n",
    "print(subjects_to_iterate)"
   ]
  },
  {
   "cell_type": "code",
   "execution_count": 16,
   "metadata": {
    "pycharm": {
     "name": "#%%\n"
    }
   },
   "outputs": [],
   "source": [
    "anomaly_impostor_score = []\n",
    "for x in subjects_to_iterate:\n",
    "\n",
    "    # get impostor dataframe\n",
    "    si = data[data[\"subject\"] == x]\n",
    "    Xi = si[si.columns.drop(['subject'])]\n",
    "    Xi_test = Xi.head(5)\n",
    "\n",
    "    # test the first five\n",
    "\n",
    "    ## Nearest Neighbor\n",
    "    tmp_impostor_score, indices = nn.kneighbors(Xi_test)\n",
    "\n",
    "    # record the results\n",
    "    # if it is the first time, save it as base\n",
    "    if i == 0:\n",
    "        anomaly_impostor_score = tmp_impostor_score\n",
    "    # append it to existing if not the first one\n",
    "    else:\n",
    "        anomaly_impostor_score = np.append(anomaly_impostor_score, tmp_impostor_score)\n",
    "\n",
    "    i = i +1"
   ]
  },
  {
   "cell_type": "code",
   "execution_count": 17,
   "metadata": {
    "pycharm": {
     "name": "#%%\n"
    }
   },
   "outputs": [
    {
     "output_type": "stream",
     "name": "stdout",
     "text": [
      "[  2.3532842    2.29481093   2.98829834  14.46996361   4.96217679\n   2.72947283   3.47615098   3.88080066   2.5678486    1.98179769\n  21.07651427   9.52731027  16.30945786   8.73844633   7.39885186\n   5.34395787   7.15191141   5.17386473   4.64486954   3.18525568\n   3.61787154   3.33600339   2.44184823   2.97205687   1.69583419\n   1.65523882   5.61229347   4.04694295   1.44232463   0.87142826\n   2.5366701    1.20999142   1.86837307   3.14985426   2.44543781\n   3.47902036   3.19538998   2.74681533  13.5789552    5.32657777\n   5.27636784   0.89651052   3.58056441   4.84802985   2.06617583\n   3.07928929   2.26516984   2.84057108   2.80802816   2.66889593\n   7.96717799   9.29330238   4.90901786   8.42139474   4.75006944\n   1.82363736   3.37453933   1.86626118   1.32087397   3.26008617\n   6.3244612    5.13303447   7.89340451   6.46480574   3.22620232\n  13.243833     9.55248739   8.80180536  11.20928014   6.91497134\n  32.08154584   4.71400509   3.96083081   1.47739961   1.09828628\n  15.84209846  12.25773144   3.79465905   3.47137027   4.10956785\n  15.2265881   20.22419136  11.68800752  12.02400317  10.44527566\n   2.25431779   7.40220079   5.69321307   3.18534317   2.57459096\n   4.1457307    3.79121787   4.43394417   3.05032637   2.49640639\n   2.46903526   3.69820527   1.1538032    1.27414852   1.04417498\n  15.04590142  11.6006027   10.41136267  15.51980629   4.6883083\n   5.32986705   2.46409321   3.19421555   1.75363221   1.90665922\n   1.4307219    2.28695197   7.39641273   1.20642382   3.12031993\n 110.6467112    4.56584184   2.10762816  19.78441687   4.37154821\n   3.69600212   5.55779539   4.00005149   2.8218831    2.77041772\n   8.80717208   9.04695137   3.02590623   1.70824492   3.55699845\n  13.22199557   6.32251704   6.9012919    5.17539109   3.56318207\n   5.02353061   1.77689549   8.38749933   4.14570841   2.40666968\n  12.81142061   3.6127017    2.64149306   4.03599761   6.7945923\n  20.90402506  22.65289273  22.10047828  23.60681755  31.46353192\n   5.72448217   6.01329508   2.94018581   7.54551779   2.67400133\n   6.54897716   8.28240717  12.0370914    3.11297816   7.70302507\n   5.62897955   3.9737471    3.79489453   2.3601061    2.02706089\n  14.33395187   8.7018293   13.826887    10.30637066   4.78644085\n  11.86214036   4.95944685   2.15577891   3.32355952   2.4885643\n   2.57055309  12.45640351   2.71128902   3.30442785   3.44523528\n  35.15460123  39.9995753   23.8189549   20.79586481  17.22240047\n  21.71913663  13.96514309  14.04488028   5.50308596  14.1369832\n  12.73374874  14.46808376   5.11184746  15.1940445    6.39703667\n  50.6137654   11.72969374  15.57244869   5.48152694   8.23906286\n   2.75725175   2.22392054   4.47090732   1.98927904   2.83702951\n  32.22254633  18.56557073  21.14524469  10.79179564  28.35929069\n   4.63732527   3.8670108    3.72860195   3.31691355   1.77450577\n   2.85745378   1.4283231    5.47160257   1.54100894   2.17570307\n   9.77792406  23.76693495   7.84968585   9.8901194    7.11134101\n   2.8009958    2.8748936    2.49826942   2.26652421   4.11922348\n   6.74413469  10.54823081   9.08235406   3.85684406  11.68013501\n   2.90430648   1.05216098   1.17947956   3.18831029   1.39076423\n   2.56423884   7.2482157   11.1580588    7.96623176   4.38351783\n   4.58651607   3.07109062   2.22273921   1.31339862   2.80128642]\n"
     ]
    }
   ],
   "source": [
    "print(anomaly_impostor_score)"
   ]
  },
  {
   "cell_type": "markdown",
   "metadata": {
    "pycharm": {
     "name": "#%% md\n"
    }
   },
   "source": [
    "## Threshold for acceptance\n",
    "\n",
    "Assuming Gaussian distribution"
   ]
  },
  {
   "cell_type": "code",
   "execution_count": 18,
   "metadata": {
    "pycharm": {
     "name": "#%%\n"
    }
   },
   "outputs": [
    {
     "output_type": "stream",
     "name": "stdout",
     "text": [
      "0.37433655497038804\n110.64671120303831\n"
     ]
    }
   ],
   "source": [
    "user_mean = np.mean(anomaly_user_score)\n",
    "user_std = np.std(anomaly_user_score)\n",
    "user_min = np.min(anomaly_user_score)\n",
    "user_max = np.max(anomaly_user_score)\n",
    "\n",
    "impostor_mean = np.mean(anomaly_impostor_score)\n",
    "impostor_std = np.std(anomaly_impostor_score)\n",
    "impostor_min = np.min(anomaly_impostor_score)\n",
    "impostor_max = np.max(anomaly_impostor_score)\n",
    "\n",
    "if user_max >= impostor_max:\n",
    "    plot_max = user_max\n",
    "else:\n",
    "    plot_max = impostor_max\n",
    "\n",
    "if user_min <= impostor_min:\n",
    "    plot_min = user_min\n",
    "else:\n",
    "    plot_min = impostor_min\n",
    "\n",
    "print(plot_min)\n",
    "print(plot_max)"
   ]
  },
  {
   "cell_type": "code",
   "execution_count": 96,
   "metadata": {
    "pycharm": {
     "name": "#%%\n"
    }
   },
   "outputs": [
    {
     "data": {
      "text/plain": "<Figure size 720x720 with 1 Axes>",
      "image/png": "[encoded data removed]"
     },
     "metadata": {
      "needs_background": "light"
     },
     "output_type": "display_data"
    }
   ],
   "source": [
    "# Plotting\n",
    "plt.figure(figsize=(10,10))\n",
    "\n",
    "x = np.linspace(plot_min, plot_max, 100)\n",
    "\n",
    "y_user = scipy.stats.norm.pdf(x,user_mean,user_std)\n",
    "y_impostor = scipy.stats.norm.pdf(x,impostor_mean,impostor_std)\n",
    "\n",
    "plt.plot(x,y_user, color='xkcd:green')\n",
    "plt.plot(x,y_impostor, color='xkcd:coral')\n",
    "\n",
    "\n",
    "plt.grid()\n",
    "\n",
    "plt.xlim(plot_min,40)\n",
    "plt.ylim(0,0.5)\n",
    "\n",
    "plt.xlabel('x')\n",
    "plt.ylabel('Normal Distribution')\n",
    "\n",
    "# plt.savefig(\"normal_distribution_user_impostor.png\")\n",
    "plt.show()"
   ]
  },
  {
   "cell_type": "code",
   "execution_count": 19,
   "metadata": {
    "pycharm": {
     "name": "#%%\n"
    }
   },
   "outputs": [],
   "source": [
    "fpr = [1]\n",
    "tpr = [1]\n",
    "threshold = [0]\n",
    "\n",
    "# For each possible threshold\n",
    "for t in np.arange(0, int(plot_max), 1):\n",
    "    \n",
    "    y_score = []\n",
    "    y_true = []\n",
    "\n",
    "    # False alarm rate so False Positive Rate\n",
    "    # Every user mistaken as impostor\n",
    "    for e in anomaly_user_score:\n",
    "\n",
    "        # true label\n",
    "        y_true.append(0)\n",
    "\n",
    "        # print(\"score : \" + str(e))\n",
    "        # print(\"threshold : \" + str(t))\n",
    "        # score label\n",
    "        if e > t:\n",
    "            y_score.append(1)\n",
    "        else:\n",
    "            y_score.append(0)\n",
    "\n",
    "        # print(y_score)\n",
    "\n",
    "    # Hit Rate so True Positive Rate\n",
    "    # Every impostor as user\n",
    "    for e in anomaly_impostor_score:\n",
    "\n",
    "        # true label\n",
    "        y_true.append(1)\n",
    "\n",
    "        # score label\n",
    "        if e > t:\n",
    "            y_score.append(1)\n",
    "        else:\n",
    "            y_score.append(0)\n",
    "\n",
    "    tn, fp, fn, tp = confusion_matrix(y_true, y_score).ravel()\n",
    "    # print(\"True Negative : \" + str(tn))\n",
    "    # print(\"False Positive : \" + str(fp))\n",
    "    # print(\"False Negative : \" + str(fn))\n",
    "    # print(\"True Positive : \" + str(tp))\n",
    "\n",
    "    p = tp + fn\n",
    "    n = fp + tn\n",
    "\n",
    "    temp_fpr = fp / n\n",
    "    temp_tpr = tp / p\n",
    "    # print(\"False Positive Rate : \" + str(fpr))\n",
    "    # print(\"True Positive Rate : \" + str(tpr))\n",
    "\n",
    "    fpr.append(temp_fpr)\n",
    "    tpr.append(temp_tpr)\n",
    "    threshold.append(t)\n",
    "\n",
    "\n",
    "fpr.append(0)\n",
    "tpr.append(0)\n",
    "threshold.append(int(plot_max))"
   ]
  },
  {
   "cell_type": "code",
   "execution_count": 20,
   "outputs": [
    {
     "output_type": "stream",
     "name": "stdout",
     "text": [
      "112\n112\n112\n"
     ]
    }
   ],
   "source": [
    "print(len(fpr))\n",
    "print(len(tpr))\n",
    "print(len(threshold))"
   ],
   "metadata": {
    "collapsed": false,
    "pycharm": {
     "name": "#%%\n"
    }
   }
  },
  {
   "cell_type": "code",
   "execution_count": 21,
   "metadata": {
    "pycharm": {
     "name": "#%%\n"
    }
   },
   "outputs": [
    {
     "output_type": "display_data",
     "data": {
      "text/plain": "<Figure size 720x720 with 1 Axes>",
      "image/svg+xml": "<?xml version=\"1.0\" encoding=\"utf-8\" standalone=\"no\"?>\n<!DOCTYPE svg PUBLIC \"-//W3C//DTD SVG 1.1//EN\"\n  \"http://www.w3.org/Graphics/SVG/1.1/DTD/svg11.dtd\">\n<svg height=\"603.474375pt\" version=\"1.1\" viewBox=\"0 0 608.98125 603.474375\" width=\"608.98125pt\" xmlns=\"http://www.w3.org/2000/svg\" xmlns:xlink=\"http://www.w3.org/1999/xlink\">\n <metadata>\n  <rdf:RDF xmlns:cc=\"http://creativecommons.org/ns#\" xmlns:dc=\"http://purl.org/dc/elements/1.1/\" xmlns:rdf=\"http://www.w3.org/1999/02/22-rdf-syntax-ns#\">\n   <cc:Work>\n    <dc:type rdf:resource=\"http://purl.org/dc/dcmitype/StillImage\"/>\n    <dc:date>2021-05-12T19:02:41.111172</dc:date>\n    <dc:format>image/svg+xml</dc:format>\n    <dc:creator>\n     <cc:Agent>\n      <dc:title>Matplotlib v3.4.1, https://matplotlib.org/</dc:title>\n     </cc:Agent>\n    </dc:creator>\n   </cc:Work>\n  </rdf:RDF>\n </metadata>\n <defs>\n  <style type=\"text/css\">*{stroke-linecap:butt;stroke-linejoin:round;}</style>\n </defs>\n <g id=\"figure_1\">\n  <g id=\"patch_1\">\n   <path d=\"M 0 603.474375 \nL 608.98125 603.474375 \nL 608.98125 0 \nL 0 0 \nz\n\" style=\"fill:none;\"/>\n  </g>\n  <g id=\"axes_1\">\n   <g id=\"patch_2\">\n    <path d=\"M 43.78125 565.918125 \nL 601.78125 565.918125 \nL 601.78125 22.318125 \nL 43.78125 22.318125 \nz\n\" style=\"fill:#ffffff;\"/>\n   </g>\n   <g id=\"matplotlib.axis_1\">\n    <g id=\"xtick_1\">\n     <g id=\"line2d_1\">\n      <defs>\n       <path d=\"M 0 0 \nL 0 3.5 \n\" id=\"md33ab6a9d5\" style=\"stroke:#000000;stroke-width:0.8;\"/>\n      </defs>\n      <g>\n       <use style=\"stroke:#000000;stroke-width:0.8;\" x=\"69.144886\" xlink:href=\"#md33ab6a9d5\" y=\"565.918125\"/>\n      </g>\n     </g>\n     <g id=\"text_1\">\n      <!-- 0.0 -->\n      <g transform=\"translate(61.193324 580.516562)scale(0.1 -0.1)\">\n       <defs>\n        <path d=\"M 2034 4250 \nQ 1547 4250 1301 3770 \nQ 1056 3291 1056 2328 \nQ 1056 1369 1301 889 \nQ 1547 409 2034 409 \nQ 2525 409 2770 889 \nQ 3016 1369 3016 2328 \nQ 3016 3291 2770 3770 \nQ 2525 4250 2034 4250 \nz\nM 2034 4750 \nQ 2819 4750 3233 4129 \nQ 3647 3509 3647 2328 \nQ 3647 1150 3233 529 \nQ 2819 -91 2034 -91 \nQ 1250 -91 836 529 \nQ 422 1150 422 2328 \nQ 422 3509 836 4129 \nQ 1250 4750 2034 4750 \nz\n\" id=\"DejaVuSans-30\" transform=\"scale(0.015625)\"/>\n        <path d=\"M 684 794 \nL 1344 794 \nL 1344 0 \nL 684 0 \nL 684 794 \nz\n\" id=\"DejaVuSans-2e\" transform=\"scale(0.015625)\"/>\n       </defs>\n       <use xlink:href=\"#DejaVuSans-30\"/>\n       <use x=\"63.623047\" xlink:href=\"#DejaVuSans-2e\"/>\n       <use x=\"95.410156\" xlink:href=\"#DejaVuSans-30\"/>\n      </g>\n     </g>\n    </g>\n    <g id=\"xtick_2\">\n     <g id=\"line2d_2\">\n      <g>\n       <use style=\"stroke:#000000;stroke-width:0.8;\" x=\"170.599432\" xlink:href=\"#md33ab6a9d5\" y=\"565.918125\"/>\n      </g>\n     </g>\n     <g id=\"text_2\">\n      <!-- 0.2 -->\n      <g transform=\"translate(162.647869 580.516562)scale(0.1 -0.1)\">\n       <defs>\n        <path d=\"M 1228 531 \nL 3431 531 \nL 3431 0 \nL 469 0 \nL 469 531 \nQ 828 903 1448 1529 \nQ 2069 2156 2228 2338 \nQ 2531 2678 2651 2914 \nQ 2772 3150 2772 3378 \nQ 2772 3750 2511 3984 \nQ 2250 4219 1831 4219 \nQ 1534 4219 1204 4116 \nQ 875 4013 500 3803 \nL 500 4441 \nQ 881 4594 1212 4672 \nQ 1544 4750 1819 4750 \nQ 2544 4750 2975 4387 \nQ 3406 4025 3406 3419 \nQ 3406 3131 3298 2873 \nQ 3191 2616 2906 2266 \nQ 2828 2175 2409 1742 \nQ 1991 1309 1228 531 \nz\n\" id=\"DejaVuSans-32\" transform=\"scale(0.015625)\"/>\n       </defs>\n       <use xlink:href=\"#DejaVuSans-30\"/>\n       <use x=\"63.623047\" xlink:href=\"#DejaVuSans-2e\"/>\n       <use x=\"95.410156\" xlink:href=\"#DejaVuSans-32\"/>\n      </g>\n     </g>\n    </g>\n    <g id=\"xtick_3\">\n     <g id=\"line2d_3\">\n      <g>\n       <use style=\"stroke:#000000;stroke-width:0.8;\" x=\"272.053977\" xlink:href=\"#md33ab6a9d5\" y=\"565.918125\"/>\n      </g>\n     </g>\n     <g id=\"text_3\">\n      <!-- 0.4 -->\n      <g transform=\"translate(264.102415 580.516562)scale(0.1 -0.1)\">\n       <defs>\n        <path d=\"M 2419 4116 \nL 825 1625 \nL 2419 1625 \nL 2419 4116 \nz\nM 2253 4666 \nL 3047 4666 \nL 3047 1625 \nL 3713 1625 \nL 3713 1100 \nL 3047 1100 \nL 3047 0 \nL 2419 0 \nL 2419 1100 \nL 313 1100 \nL 313 1709 \nL 2253 4666 \nz\n\" id=\"DejaVuSans-34\" transform=\"scale(0.015625)\"/>\n       </defs>\n       <use xlink:href=\"#DejaVuSans-30\"/>\n       <use x=\"63.623047\" xlink:href=\"#DejaVuSans-2e\"/>\n       <use x=\"95.410156\" xlink:href=\"#DejaVuSans-34\"/>\n      </g>\n     </g>\n    </g>\n    <g id=\"xtick_4\">\n     <g id=\"line2d_4\">\n      <g>\n       <use style=\"stroke:#000000;stroke-width:0.8;\" x=\"373.508523\" xlink:href=\"#md33ab6a9d5\" y=\"565.918125\"/>\n      </g>\n     </g>\n     <g id=\"text_4\">\n      <!-- 0.6 -->\n      <g transform=\"translate(365.55696 580.516562)scale(0.1 -0.1)\">\n       <defs>\n        <path d=\"M 2113 2584 \nQ 1688 2584 1439 2293 \nQ 1191 2003 1191 1497 \nQ 1191 994 1439 701 \nQ 1688 409 2113 409 \nQ 2538 409 2786 701 \nQ 3034 994 3034 1497 \nQ 3034 2003 2786 2293 \nQ 2538 2584 2113 2584 \nz\nM 3366 4563 \nL 3366 3988 \nQ 3128 4100 2886 4159 \nQ 2644 4219 2406 4219 \nQ 1781 4219 1451 3797 \nQ 1122 3375 1075 2522 \nQ 1259 2794 1537 2939 \nQ 1816 3084 2150 3084 \nQ 2853 3084 3261 2657 \nQ 3669 2231 3669 1497 \nQ 3669 778 3244 343 \nQ 2819 -91 2113 -91 \nQ 1303 -91 875 529 \nQ 447 1150 447 2328 \nQ 447 3434 972 4092 \nQ 1497 4750 2381 4750 \nQ 2619 4750 2861 4703 \nQ 3103 4656 3366 4563 \nz\n\" id=\"DejaVuSans-36\" transform=\"scale(0.015625)\"/>\n       </defs>\n       <use xlink:href=\"#DejaVuSans-30\"/>\n       <use x=\"63.623047\" xlink:href=\"#DejaVuSans-2e\"/>\n       <use x=\"95.410156\" xlink:href=\"#DejaVuSans-36\"/>\n      </g>\n     </g>\n    </g>\n    <g id=\"xtick_5\">\n     <g id=\"line2d_5\">\n      <g>\n       <use style=\"stroke:#000000;stroke-width:0.8;\" x=\"474.963068\" xlink:href=\"#md33ab6a9d5\" y=\"565.918125\"/>\n      </g>\n     </g>\n     <g id=\"text_5\">\n      <!-- 0.8 -->\n      <g transform=\"translate(467.011506 580.516562)scale(0.1 -0.1)\">\n       <defs>\n        <path d=\"M 2034 2216 \nQ 1584 2216 1326 1975 \nQ 1069 1734 1069 1313 \nQ 1069 891 1326 650 \nQ 1584 409 2034 409 \nQ 2484 409 2743 651 \nQ 3003 894 3003 1313 \nQ 3003 1734 2745 1975 \nQ 2488 2216 2034 2216 \nz\nM 1403 2484 \nQ 997 2584 770 2862 \nQ 544 3141 544 3541 \nQ 544 4100 942 4425 \nQ 1341 4750 2034 4750 \nQ 2731 4750 3128 4425 \nQ 3525 4100 3525 3541 \nQ 3525 3141 3298 2862 \nQ 3072 2584 2669 2484 \nQ 3125 2378 3379 2068 \nQ 3634 1759 3634 1313 \nQ 3634 634 3220 271 \nQ 2806 -91 2034 -91 \nQ 1263 -91 848 271 \nQ 434 634 434 1313 \nQ 434 1759 690 2068 \nQ 947 2378 1403 2484 \nz\nM 1172 3481 \nQ 1172 3119 1398 2916 \nQ 1625 2713 2034 2713 \nQ 2441 2713 2670 2916 \nQ 2900 3119 2900 3481 \nQ 2900 3844 2670 4047 \nQ 2441 4250 2034 4250 \nQ 1625 4250 1398 4047 \nQ 1172 3844 1172 3481 \nz\n\" id=\"DejaVuSans-38\" transform=\"scale(0.015625)\"/>\n       </defs>\n       <use xlink:href=\"#DejaVuSans-30\"/>\n       <use x=\"63.623047\" xlink:href=\"#DejaVuSans-2e\"/>\n       <use x=\"95.410156\" xlink:href=\"#DejaVuSans-38\"/>\n      </g>\n     </g>\n    </g>\n    <g id=\"xtick_6\">\n     <g id=\"line2d_6\">\n      <g>\n       <use style=\"stroke:#000000;stroke-width:0.8;\" x=\"576.417614\" xlink:href=\"#md33ab6a9d5\" y=\"565.918125\"/>\n      </g>\n     </g>\n     <g id=\"text_6\">\n      <!-- 1.0 -->\n      <g transform=\"translate(568.466051 580.516562)scale(0.1 -0.1)\">\n       <defs>\n        <path d=\"M 794 531 \nL 1825 531 \nL 1825 4091 \nL 703 3866 \nL 703 4441 \nL 1819 4666 \nL 2450 4666 \nL 2450 531 \nL 3481 531 \nL 3481 0 \nL 794 0 \nL 794 531 \nz\n\" id=\"DejaVuSans-31\" transform=\"scale(0.015625)\"/>\n       </defs>\n       <use xlink:href=\"#DejaVuSans-31\"/>\n       <use x=\"63.623047\" xlink:href=\"#DejaVuSans-2e\"/>\n       <use x=\"95.410156\" xlink:href=\"#DejaVuSans-30\"/>\n      </g>\n     </g>\n    </g>\n    <g id=\"text_7\">\n     <!-- False Positive Rate / False Alarm Rate -->\n     <g transform=\"translate(229.546094 594.194687)scale(0.1 -0.1)\">\n      <defs>\n       <path d=\"M 628 4666 \nL 3309 4666 \nL 3309 4134 \nL 1259 4134 \nL 1259 2759 \nL 3109 2759 \nL 3109 2228 \nL 1259 2228 \nL 1259 0 \nL 628 0 \nL 628 4666 \nz\n\" id=\"DejaVuSans-46\" transform=\"scale(0.015625)\"/>\n       <path d=\"M 2194 1759 \nQ 1497 1759 1228 1600 \nQ 959 1441 959 1056 \nQ 959 750 1161 570 \nQ 1363 391 1709 391 \nQ 2188 391 2477 730 \nQ 2766 1069 2766 1631 \nL 2766 1759 \nL 2194 1759 \nz\nM 3341 1997 \nL 3341 0 \nL 2766 0 \nL 2766 531 \nQ 2569 213 2275 61 \nQ 1981 -91 1556 -91 \nQ 1019 -91 701 211 \nQ 384 513 384 1019 \nQ 384 1609 779 1909 \nQ 1175 2209 1959 2209 \nL 2766 2209 \nL 2766 2266 \nQ 2766 2663 2505 2880 \nQ 2244 3097 1772 3097 \nQ 1472 3097 1187 3025 \nQ 903 2953 641 2809 \nL 641 3341 \nQ 956 3463 1253 3523 \nQ 1550 3584 1831 3584 \nQ 2591 3584 2966 3190 \nQ 3341 2797 3341 1997 \nz\n\" id=\"DejaVuSans-61\" transform=\"scale(0.015625)\"/>\n       <path d=\"M 603 4863 \nL 1178 4863 \nL 1178 0 \nL 603 0 \nL 603 4863 \nz\n\" id=\"DejaVuSans-6c\" transform=\"scale(0.015625)\"/>\n       <path d=\"M 2834 3397 \nL 2834 2853 \nQ 2591 2978 2328 3040 \nQ 2066 3103 1784 3103 \nQ 1356 3103 1142 2972 \nQ 928 2841 928 2578 \nQ 928 2378 1081 2264 \nQ 1234 2150 1697 2047 \nL 1894 2003 \nQ 2506 1872 2764 1633 \nQ 3022 1394 3022 966 \nQ 3022 478 2636 193 \nQ 2250 -91 1575 -91 \nQ 1294 -91 989 -36 \nQ 684 19 347 128 \nL 347 722 \nQ 666 556 975 473 \nQ 1284 391 1588 391 \nQ 1994 391 2212 530 \nQ 2431 669 2431 922 \nQ 2431 1156 2273 1281 \nQ 2116 1406 1581 1522 \nL 1381 1569 \nQ 847 1681 609 1914 \nQ 372 2147 372 2553 \nQ 372 3047 722 3315 \nQ 1072 3584 1716 3584 \nQ 2034 3584 2315 3537 \nQ 2597 3491 2834 3397 \nz\n\" id=\"DejaVuSans-73\" transform=\"scale(0.015625)\"/>\n       <path d=\"M 3597 1894 \nL 3597 1613 \nL 953 1613 \nQ 991 1019 1311 708 \nQ 1631 397 2203 397 \nQ 2534 397 2845 478 \nQ 3156 559 3463 722 \nL 3463 178 \nQ 3153 47 2828 -22 \nQ 2503 -91 2169 -91 \nQ 1331 -91 842 396 \nQ 353 884 353 1716 \nQ 353 2575 817 3079 \nQ 1281 3584 2069 3584 \nQ 2775 3584 3186 3129 \nQ 3597 2675 3597 1894 \nz\nM 3022 2063 \nQ 3016 2534 2758 2815 \nQ 2500 3097 2075 3097 \nQ 1594 3097 1305 2825 \nQ 1016 2553 972 2059 \nL 3022 2063 \nz\n\" id=\"DejaVuSans-65\" transform=\"scale(0.015625)\"/>\n       <path id=\"DejaVuSans-20\" transform=\"scale(0.015625)\"/>\n       <path d=\"M 1259 4147 \nL 1259 2394 \nL 2053 2394 \nQ 2494 2394 2734 2622 \nQ 2975 2850 2975 3272 \nQ 2975 3691 2734 3919 \nQ 2494 4147 2053 4147 \nL 1259 4147 \nz\nM 628 4666 \nL 2053 4666 \nQ 2838 4666 3239 4311 \nQ 3641 3956 3641 3272 \nQ 3641 2581 3239 2228 \nQ 2838 1875 2053 1875 \nL 1259 1875 \nL 1259 0 \nL 628 0 \nL 628 4666 \nz\n\" id=\"DejaVuSans-50\" transform=\"scale(0.015625)\"/>\n       <path d=\"M 1959 3097 \nQ 1497 3097 1228 2736 \nQ 959 2375 959 1747 \nQ 959 1119 1226 758 \nQ 1494 397 1959 397 \nQ 2419 397 2687 759 \nQ 2956 1122 2956 1747 \nQ 2956 2369 2687 2733 \nQ 2419 3097 1959 3097 \nz\nM 1959 3584 \nQ 2709 3584 3137 3096 \nQ 3566 2609 3566 1747 \nQ 3566 888 3137 398 \nQ 2709 -91 1959 -91 \nQ 1206 -91 779 398 \nQ 353 888 353 1747 \nQ 353 2609 779 3096 \nQ 1206 3584 1959 3584 \nz\n\" id=\"DejaVuSans-6f\" transform=\"scale(0.015625)\"/>\n       <path d=\"M 603 3500 \nL 1178 3500 \nL 1178 0 \nL 603 0 \nL 603 3500 \nz\nM 603 4863 \nL 1178 4863 \nL 1178 4134 \nL 603 4134 \nL 603 4863 \nz\n\" id=\"DejaVuSans-69\" transform=\"scale(0.015625)\"/>\n       <path d=\"M 1172 4494 \nL 1172 3500 \nL 2356 3500 \nL 2356 3053 \nL 1172 3053 \nL 1172 1153 \nQ 1172 725 1289 603 \nQ 1406 481 1766 481 \nL 2356 481 \nL 2356 0 \nL 1766 0 \nQ 1100 0 847 248 \nQ 594 497 594 1153 \nL 594 3053 \nL 172 3053 \nL 172 3500 \nL 594 3500 \nL 594 4494 \nL 1172 4494 \nz\n\" id=\"DejaVuSans-74\" transform=\"scale(0.015625)\"/>\n       <path d=\"M 191 3500 \nL 800 3500 \nL 1894 563 \nL 2988 3500 \nL 3597 3500 \nL 2284 0 \nL 1503 0 \nL 191 3500 \nz\n\" id=\"DejaVuSans-76\" transform=\"scale(0.015625)\"/>\n       <path d=\"M 2841 2188 \nQ 3044 2119 3236 1894 \nQ 3428 1669 3622 1275 \nL 4263 0 \nL 3584 0 \nL 2988 1197 \nQ 2756 1666 2539 1819 \nQ 2322 1972 1947 1972 \nL 1259 1972 \nL 1259 0 \nL 628 0 \nL 628 4666 \nL 2053 4666 \nQ 2853 4666 3247 4331 \nQ 3641 3997 3641 3322 \nQ 3641 2881 3436 2590 \nQ 3231 2300 2841 2188 \nz\nM 1259 4147 \nL 1259 2491 \nL 2053 2491 \nQ 2509 2491 2742 2702 \nQ 2975 2913 2975 3322 \nQ 2975 3731 2742 3939 \nQ 2509 4147 2053 4147 \nL 1259 4147 \nz\n\" id=\"DejaVuSans-52\" transform=\"scale(0.015625)\"/>\n       <path d=\"M 1625 4666 \nL 2156 4666 \nL 531 -594 \nL 0 -594 \nL 1625 4666 \nz\n\" id=\"DejaVuSans-2f\" transform=\"scale(0.015625)\"/>\n       <path d=\"M 2188 4044 \nL 1331 1722 \nL 3047 1722 \nL 2188 4044 \nz\nM 1831 4666 \nL 2547 4666 \nL 4325 0 \nL 3669 0 \nL 3244 1197 \nL 1141 1197 \nL 716 0 \nL 50 0 \nL 1831 4666 \nz\n\" id=\"DejaVuSans-41\" transform=\"scale(0.015625)\"/>\n       <path d=\"M 2631 2963 \nQ 2534 3019 2420 3045 \nQ 2306 3072 2169 3072 \nQ 1681 3072 1420 2755 \nQ 1159 2438 1159 1844 \nL 1159 0 \nL 581 0 \nL 581 3500 \nL 1159 3500 \nL 1159 2956 \nQ 1341 3275 1631 3429 \nQ 1922 3584 2338 3584 \nQ 2397 3584 2469 3576 \nQ 2541 3569 2628 3553 \nL 2631 2963 \nz\n\" id=\"DejaVuSans-72\" transform=\"scale(0.015625)\"/>\n       <path d=\"M 3328 2828 \nQ 3544 3216 3844 3400 \nQ 4144 3584 4550 3584 \nQ 5097 3584 5394 3201 \nQ 5691 2819 5691 2113 \nL 5691 0 \nL 5113 0 \nL 5113 2094 \nQ 5113 2597 4934 2840 \nQ 4756 3084 4391 3084 \nQ 3944 3084 3684 2787 \nQ 3425 2491 3425 1978 \nL 3425 0 \nL 2847 0 \nL 2847 2094 \nQ 2847 2600 2669 2842 \nQ 2491 3084 2119 3084 \nQ 1678 3084 1418 2786 \nQ 1159 2488 1159 1978 \nL 1159 0 \nL 581 0 \nL 581 3500 \nL 1159 3500 \nL 1159 2956 \nQ 1356 3278 1631 3431 \nQ 1906 3584 2284 3584 \nQ 2666 3584 2933 3390 \nQ 3200 3197 3328 2828 \nz\n\" id=\"DejaVuSans-6d\" transform=\"scale(0.015625)\"/>\n      </defs>\n      <use xlink:href=\"#DejaVuSans-46\"/>\n      <use x=\"48.394531\" xlink:href=\"#DejaVuSans-61\"/>\n      <use x=\"109.673828\" xlink:href=\"#DejaVuSans-6c\"/>\n      <use x=\"137.457031\" xlink:href=\"#DejaVuSans-73\"/>\n      <use x=\"189.556641\" xlink:href=\"#DejaVuSans-65\"/>\n      <use x=\"251.080078\" xlink:href=\"#DejaVuSans-20\"/>\n      <use x=\"282.867188\" xlink:href=\"#DejaVuSans-50\"/>\n      <use x=\"339.544922\" xlink:href=\"#DejaVuSans-6f\"/>\n      <use x=\"400.726562\" xlink:href=\"#DejaVuSans-73\"/>\n      <use x=\"452.826172\" xlink:href=\"#DejaVuSans-69\"/>\n      <use x=\"480.609375\" xlink:href=\"#DejaVuSans-74\"/>\n      <use x=\"519.818359\" xlink:href=\"#DejaVuSans-69\"/>\n      <use x=\"547.601562\" xlink:href=\"#DejaVuSans-76\"/>\n      <use x=\"606.78125\" xlink:href=\"#DejaVuSans-65\"/>\n      <use x=\"668.304688\" xlink:href=\"#DejaVuSans-20\"/>\n      <use x=\"700.091797\" xlink:href=\"#DejaVuSans-52\"/>\n      <use x=\"767.324219\" xlink:href=\"#DejaVuSans-61\"/>\n      <use x=\"828.603516\" xlink:href=\"#DejaVuSans-74\"/>\n      <use x=\"867.8125\" xlink:href=\"#DejaVuSans-65\"/>\n      <use x=\"929.335938\" xlink:href=\"#DejaVuSans-20\"/>\n      <use x=\"961.123047\" xlink:href=\"#DejaVuSans-2f\"/>\n      <use x=\"994.814453\" xlink:href=\"#DejaVuSans-20\"/>\n      <use x=\"1026.601562\" xlink:href=\"#DejaVuSans-46\"/>\n      <use x=\"1074.996094\" xlink:href=\"#DejaVuSans-61\"/>\n      <use x=\"1136.275391\" xlink:href=\"#DejaVuSans-6c\"/>\n      <use x=\"1164.058594\" xlink:href=\"#DejaVuSans-73\"/>\n      <use x=\"1216.158203\" xlink:href=\"#DejaVuSans-65\"/>\n      <use x=\"1277.681641\" xlink:href=\"#DejaVuSans-20\"/>\n      <use x=\"1309.46875\" xlink:href=\"#DejaVuSans-41\"/>\n      <use x=\"1377.876953\" xlink:href=\"#DejaVuSans-6c\"/>\n      <use x=\"1405.660156\" xlink:href=\"#DejaVuSans-61\"/>\n      <use x=\"1466.939453\" xlink:href=\"#DejaVuSans-72\"/>\n      <use x=\"1506.302734\" xlink:href=\"#DejaVuSans-6d\"/>\n      <use x=\"1603.714844\" xlink:href=\"#DejaVuSans-20\"/>\n      <use x=\"1635.501953\" xlink:href=\"#DejaVuSans-52\"/>\n      <use x=\"1702.734375\" xlink:href=\"#DejaVuSans-61\"/>\n      <use x=\"1764.013672\" xlink:href=\"#DejaVuSans-74\"/>\n      <use x=\"1803.222656\" xlink:href=\"#DejaVuSans-65\"/>\n     </g>\n    </g>\n   </g>\n   <g id=\"matplotlib.axis_2\">\n    <g id=\"ytick_1\">\n     <g id=\"line2d_7\">\n      <defs>\n       <path d=\"M 0 0 \nL -3.5 0 \n\" id=\"m08d62cdd1d\" style=\"stroke:#000000;stroke-width:0.8;\"/>\n      </defs>\n      <g>\n       <use style=\"stroke:#000000;stroke-width:0.8;\" x=\"43.78125\" xlink:href=\"#m08d62cdd1d\" y=\"541.209034\"/>\n      </g>\n     </g>\n     <g id=\"text_8\">\n      <!-- 0.0 -->\n      <g transform=\"translate(20.878125 545.008253)scale(0.1 -0.1)\">\n       <use xlink:href=\"#DejaVuSans-30\"/>\n       <use x=\"63.623047\" xlink:href=\"#DejaVuSans-2e\"/>\n       <use x=\"95.410156\" xlink:href=\"#DejaVuSans-30\"/>\n      </g>\n     </g>\n    </g>\n    <g id=\"ytick_2\">\n     <g id=\"line2d_8\">\n      <g>\n       <use style=\"stroke:#000000;stroke-width:0.8;\" x=\"43.78125\" xlink:href=\"#m08d62cdd1d\" y=\"442.37267\"/>\n      </g>\n     </g>\n     <g id=\"text_9\">\n      <!-- 0.2 -->\n      <g transform=\"translate(20.878125 446.171889)scale(0.1 -0.1)\">\n       <use xlink:href=\"#DejaVuSans-30\"/>\n       <use x=\"63.623047\" xlink:href=\"#DejaVuSans-2e\"/>\n       <use x=\"95.410156\" xlink:href=\"#DejaVuSans-32\"/>\n      </g>\n     </g>\n    </g>\n    <g id=\"ytick_3\">\n     <g id=\"line2d_9\">\n      <g>\n       <use style=\"stroke:#000000;stroke-width:0.8;\" x=\"43.78125\" xlink:href=\"#m08d62cdd1d\" y=\"343.536307\"/>\n      </g>\n     </g>\n     <g id=\"text_10\">\n      <!-- 0.4 -->\n      <g transform=\"translate(20.878125 347.335526)scale(0.1 -0.1)\">\n       <use xlink:href=\"#DejaVuSans-30\"/>\n       <use x=\"63.623047\" xlink:href=\"#DejaVuSans-2e\"/>\n       <use x=\"95.410156\" xlink:href=\"#DejaVuSans-34\"/>\n      </g>\n     </g>\n    </g>\n    <g id=\"ytick_4\">\n     <g id=\"line2d_10\">\n      <g>\n       <use style=\"stroke:#000000;stroke-width:0.8;\" x=\"43.78125\" xlink:href=\"#m08d62cdd1d\" y=\"244.699943\"/>\n      </g>\n     </g>\n     <g id=\"text_11\">\n      <!-- 0.6 -->\n      <g transform=\"translate(20.878125 248.499162)scale(0.1 -0.1)\">\n       <use xlink:href=\"#DejaVuSans-30\"/>\n       <use x=\"63.623047\" xlink:href=\"#DejaVuSans-2e\"/>\n       <use x=\"95.410156\" xlink:href=\"#DejaVuSans-36\"/>\n      </g>\n     </g>\n    </g>\n    <g id=\"ytick_5\">\n     <g id=\"line2d_11\">\n      <g>\n       <use style=\"stroke:#000000;stroke-width:0.8;\" x=\"43.78125\" xlink:href=\"#m08d62cdd1d\" y=\"145.86358\"/>\n      </g>\n     </g>\n     <g id=\"text_12\">\n      <!-- 0.8 -->\n      <g transform=\"translate(20.878125 149.662798)scale(0.1 -0.1)\">\n       <use xlink:href=\"#DejaVuSans-30\"/>\n       <use x=\"63.623047\" xlink:href=\"#DejaVuSans-2e\"/>\n       <use x=\"95.410156\" xlink:href=\"#DejaVuSans-38\"/>\n      </g>\n     </g>\n    </g>\n    <g id=\"ytick_6\">\n     <g id=\"line2d_12\">\n      <g>\n       <use style=\"stroke:#000000;stroke-width:0.8;\" x=\"43.78125\" xlink:href=\"#m08d62cdd1d\" y=\"47.027216\"/>\n      </g>\n     </g>\n     <g id=\"text_13\">\n      <!-- 1.0 -->\n      <g transform=\"translate(20.878125 50.826435)scale(0.1 -0.1)\">\n       <use xlink:href=\"#DejaVuSans-31\"/>\n       <use x=\"63.623047\" xlink:href=\"#DejaVuSans-2e\"/>\n       <use x=\"95.410156\" xlink:href=\"#DejaVuSans-30\"/>\n      </g>\n     </g>\n    </g>\n    <g id=\"text_14\">\n     <!-- True Positive Rate / Hit Rate  -->\n     <g transform=\"translate(14.798438 365.260313)rotate(-90)scale(0.1 -0.1)\">\n      <defs>\n       <path d=\"M -19 4666 \nL 3928 4666 \nL 3928 4134 \nL 2272 4134 \nL 2272 0 \nL 1638 0 \nL 1638 4134 \nL -19 4134 \nL -19 4666 \nz\n\" id=\"DejaVuSans-54\" transform=\"scale(0.015625)\"/>\n       <path d=\"M 544 1381 \nL 544 3500 \nL 1119 3500 \nL 1119 1403 \nQ 1119 906 1312 657 \nQ 1506 409 1894 409 \nQ 2359 409 2629 706 \nQ 2900 1003 2900 1516 \nL 2900 3500 \nL 3475 3500 \nL 3475 0 \nL 2900 0 \nL 2900 538 \nQ 2691 219 2414 64 \nQ 2138 -91 1772 -91 \nQ 1169 -91 856 284 \nQ 544 659 544 1381 \nz\nM 1991 3584 \nL 1991 3584 \nz\n\" id=\"DejaVuSans-75\" transform=\"scale(0.015625)\"/>\n       <path d=\"M 628 4666 \nL 1259 4666 \nL 1259 2753 \nL 3553 2753 \nL 3553 4666 \nL 4184 4666 \nL 4184 0 \nL 3553 0 \nL 3553 2222 \nL 1259 2222 \nL 1259 0 \nL 628 0 \nL 628 4666 \nz\n\" id=\"DejaVuSans-48\" transform=\"scale(0.015625)\"/>\n      </defs>\n      <use xlink:href=\"#DejaVuSans-54\"/>\n      <use x=\"46.333984\" xlink:href=\"#DejaVuSans-72\"/>\n      <use x=\"87.447266\" xlink:href=\"#DejaVuSans-75\"/>\n      <use x=\"150.826172\" xlink:href=\"#DejaVuSans-65\"/>\n      <use x=\"212.349609\" xlink:href=\"#DejaVuSans-20\"/>\n      <use x=\"244.136719\" xlink:href=\"#DejaVuSans-50\"/>\n      <use x=\"300.814453\" xlink:href=\"#DejaVuSans-6f\"/>\n      <use x=\"361.996094\" xlink:href=\"#DejaVuSans-73\"/>\n      <use x=\"414.095703\" xlink:href=\"#DejaVuSans-69\"/>\n      <use x=\"441.878906\" xlink:href=\"#DejaVuSans-74\"/>\n      <use x=\"481.087891\" xlink:href=\"#DejaVuSans-69\"/>\n      <use x=\"508.871094\" xlink:href=\"#DejaVuSans-76\"/>\n      <use x=\"568.050781\" xlink:href=\"#DejaVuSans-65\"/>\n      <use x=\"629.574219\" xlink:href=\"#DejaVuSans-20\"/>\n      <use x=\"661.361328\" xlink:href=\"#DejaVuSans-52\"/>\n      <use x=\"728.59375\" xlink:href=\"#DejaVuSans-61\"/>\n      <use x=\"789.873047\" xlink:href=\"#DejaVuSans-74\"/>\n      <use x=\"829.082031\" xlink:href=\"#DejaVuSans-65\"/>\n      <use x=\"890.605469\" xlink:href=\"#DejaVuSans-20\"/>\n      <use x=\"922.392578\" xlink:href=\"#DejaVuSans-2f\"/>\n      <use x=\"956.083984\" xlink:href=\"#DejaVuSans-20\"/>\n      <use x=\"987.871094\" xlink:href=\"#DejaVuSans-48\"/>\n      <use x=\"1063.066406\" xlink:href=\"#DejaVuSans-69\"/>\n      <use x=\"1090.849609\" xlink:href=\"#DejaVuSans-74\"/>\n      <use x=\"1130.058594\" xlink:href=\"#DejaVuSans-20\"/>\n      <use x=\"1161.845703\" xlink:href=\"#DejaVuSans-52\"/>\n      <use x=\"1229.078125\" xlink:href=\"#DejaVuSans-61\"/>\n      <use x=\"1290.357422\" xlink:href=\"#DejaVuSans-74\"/>\n      <use x=\"1329.566406\" xlink:href=\"#DejaVuSans-65\"/>\n      <use x=\"1391.089844\" xlink:href=\"#DejaVuSans-20\"/>\n     </g>\n    </g>\n   </g>\n   <g id=\"line2d_13\">\n    <path clip-path=\"url(#p65f1500d56)\" d=\"M 576.417614 47.027216 \nL 576.417614 47.027216 \nL 416.626705 50.98067 \nL 178.208523 106.329034 \nL 102.117614 199.235216 \nL 79.290341 276.32758 \nL 74.217614 321.792307 \nL 74.217614 355.39667 \nL 71.68125 375.163943 \nL 71.68125 398.88467 \nL 69.144886 414.698489 \nL 69.144886 428.53558 \nL 69.144886 438.419216 \nL 69.144886 452.256307 \nL 69.144886 464.11667 \nL 69.144886 474.000307 \nL 69.144886 483.883943 \nL 69.144886 495.744307 \nL 69.144886 497.721034 \nL 69.144886 499.697761 \nL 69.144886 501.674489 \nL 69.144886 503.651216 \nL 69.144886 509.581398 \nL 69.144886 515.51158 \nL 69.144886 519.465034 \nL 69.144886 525.395216 \nL 69.144886 525.395216 \nL 69.144886 525.395216 \nL 69.144886 525.395216 \nL 69.144886 525.395216 \nL 69.144886 527.371943 \nL 69.144886 527.371943 \nL 69.144886 527.371943 \nL 69.144886 529.34867 \nL 69.144886 533.302125 \nL 69.144886 533.302125 \nL 69.144886 533.302125 \nL 69.144886 535.278852 \nL 69.144886 535.278852 \nL 69.144886 535.278852 \nL 69.144886 535.278852 \nL 69.144886 537.25558 \nL 69.144886 537.25558 \nL 69.144886 537.25558 \nL 69.144886 537.25558 \nL 69.144886 537.25558 \nL 69.144886 537.25558 \nL 69.144886 537.25558 \nL 69.144886 537.25558 \nL 69.144886 537.25558 \nL 69.144886 537.25558 \nL 69.144886 537.25558 \nL 69.144886 539.232307 \nL 69.144886 539.232307 \nL 69.144886 539.232307 \nL 69.144886 539.232307 \nL 69.144886 539.232307 \nL 69.144886 539.232307 \nL 69.144886 539.232307 \nL 69.144886 539.232307 \nL 69.144886 539.232307 \nL 69.144886 539.232307 \nL 69.144886 539.232307 \nL 69.144886 539.232307 \nL 69.144886 539.232307 \nL 69.144886 539.232307 \nL 69.144886 539.232307 \nL 69.144886 539.232307 \nL 69.144886 539.232307 \nL 69.144886 539.232307 \nL 69.144886 539.232307 \nL 69.144886 539.232307 \nL 69.144886 539.232307 \nL 69.144886 539.232307 \nL 69.144886 539.232307 \nL 69.144886 539.232307 \nL 69.144886 539.232307 \nL 69.144886 539.232307 \nL 69.144886 539.232307 \nL 69.144886 539.232307 \nL 69.144886 539.232307 \nL 69.144886 539.232307 \nL 69.144886 539.232307 \nL 69.144886 539.232307 \nL 69.144886 539.232307 \nL 69.144886 539.232307 \nL 69.144886 539.232307 \nL 69.144886 539.232307 \nL 69.144886 539.232307 \nL 69.144886 539.232307 \nL 69.144886 539.232307 \nL 69.144886 539.232307 \nL 69.144886 539.232307 \nL 69.144886 539.232307 \nL 69.144886 539.232307 \nL 69.144886 539.232307 \nL 69.144886 539.232307 \nL 69.144886 539.232307 \nL 69.144886 539.232307 \nL 69.144886 539.232307 \nL 69.144886 539.232307 \nL 69.144886 539.232307 \nL 69.144886 539.232307 \nL 69.144886 539.232307 \nL 69.144886 539.232307 \nL 69.144886 539.232307 \nL 69.144886 539.232307 \nL 69.144886 539.232307 \nL 69.144886 539.232307 \nL 69.144886 539.232307 \nL 69.144886 539.232307 \nL 69.144886 541.209034 \n\" style=\"fill:none;stroke:#15b01a;stroke-linecap:square;stroke-width:1.5;\"/>\n   </g>\n   <g id=\"patch_3\">\n    <path d=\"M 43.78125 565.918125 \nL 43.78125 22.318125 \n\" style=\"fill:none;stroke:#000000;stroke-linecap:square;stroke-linejoin:miter;stroke-width:0.8;\"/>\n   </g>\n   <g id=\"patch_4\">\n    <path d=\"M 601.78125 565.918125 \nL 601.78125 22.318125 \n\" style=\"fill:none;stroke:#000000;stroke-linecap:square;stroke-linejoin:miter;stroke-width:0.8;\"/>\n   </g>\n   <g id=\"patch_5\">\n    <path d=\"M 43.78125 565.918125 \nL 601.78125 565.918125 \n\" style=\"fill:none;stroke:#000000;stroke-linecap:square;stroke-linejoin:miter;stroke-width:0.8;\"/>\n   </g>\n   <g id=\"patch_6\">\n    <path d=\"M 43.78125 22.318125 \nL 601.78125 22.318125 \n\" style=\"fill:none;stroke:#000000;stroke-linecap:square;stroke-linejoin:miter;stroke-width:0.8;\"/>\n   </g>\n   <g id=\"text_15\">\n    <!-- ROC cruve -->\n    <g transform=\"translate(290.98125 16.318125)scale(0.12 -0.12)\">\n     <defs>\n      <path d=\"M 2522 4238 \nQ 1834 4238 1429 3725 \nQ 1025 3213 1025 2328 \nQ 1025 1447 1429 934 \nQ 1834 422 2522 422 \nQ 3209 422 3611 934 \nQ 4013 1447 4013 2328 \nQ 4013 3213 3611 3725 \nQ 3209 4238 2522 4238 \nz\nM 2522 4750 \nQ 3503 4750 4090 4092 \nQ 4678 3434 4678 2328 \nQ 4678 1225 4090 567 \nQ 3503 -91 2522 -91 \nQ 1538 -91 948 565 \nQ 359 1222 359 2328 \nQ 359 3434 948 4092 \nQ 1538 4750 2522 4750 \nz\n\" id=\"DejaVuSans-4f\" transform=\"scale(0.015625)\"/>\n      <path d=\"M 4122 4306 \nL 4122 3641 \nQ 3803 3938 3442 4084 \nQ 3081 4231 2675 4231 \nQ 1875 4231 1450 3742 \nQ 1025 3253 1025 2328 \nQ 1025 1406 1450 917 \nQ 1875 428 2675 428 \nQ 3081 428 3442 575 \nQ 3803 722 4122 1019 \nL 4122 359 \nQ 3791 134 3420 21 \nQ 3050 -91 2638 -91 \nQ 1578 -91 968 557 \nQ 359 1206 359 2328 \nQ 359 3453 968 4101 \nQ 1578 4750 2638 4750 \nQ 3056 4750 3426 4639 \nQ 3797 4528 4122 4306 \nz\n\" id=\"DejaVuSans-43\" transform=\"scale(0.015625)\"/>\n      <path d=\"M 3122 3366 \nL 3122 2828 \nQ 2878 2963 2633 3030 \nQ 2388 3097 2138 3097 \nQ 1578 3097 1268 2742 \nQ 959 2388 959 1747 \nQ 959 1106 1268 751 \nQ 1578 397 2138 397 \nQ 2388 397 2633 464 \nQ 2878 531 3122 666 \nL 3122 134 \nQ 2881 22 2623 -34 \nQ 2366 -91 2075 -91 \nQ 1284 -91 818 406 \nQ 353 903 353 1747 \nQ 353 2603 823 3093 \nQ 1294 3584 2113 3584 \nQ 2378 3584 2631 3529 \nQ 2884 3475 3122 3366 \nz\n\" id=\"DejaVuSans-63\" transform=\"scale(0.015625)\"/>\n     </defs>\n     <use xlink:href=\"#DejaVuSans-52\"/>\n     <use x=\"69.482422\" xlink:href=\"#DejaVuSans-4f\"/>\n     <use x=\"148.193359\" xlink:href=\"#DejaVuSans-43\"/>\n     <use x=\"218.017578\" xlink:href=\"#DejaVuSans-20\"/>\n     <use x=\"249.804688\" xlink:href=\"#DejaVuSans-63\"/>\n     <use x=\"304.785156\" xlink:href=\"#DejaVuSans-72\"/>\n     <use x=\"345.898438\" xlink:href=\"#DejaVuSans-75\"/>\n     <use x=\"409.277344\" xlink:href=\"#DejaVuSans-76\"/>\n     <use x=\"468.457031\" xlink:href=\"#DejaVuSans-65\"/>\n    </g>\n   </g>\n  </g>\n </g>\n <defs>\n  <clipPath id=\"p65f1500d56\">\n   <rect height=\"543.6\" width=\"558\" x=\"43.78125\" y=\"22.318125\"/>\n  </clipPath>\n </defs>\n</svg>\n",
      "image/png": "[encoded data removed]"
     },
     "metadata": {
      "needs_background": "light"
     }
    }
   ],
   "source": [
    "plt.figure(figsize=(10,10))\n",
    "plt.plot(fpr, tpr, color='xkcd:green',)\n",
    "plt.xlabel('False Positive Rate / False Alarm Rate')\n",
    "plt.ylabel('True Positive Rate / Hit Rate ')\n",
    "plt.title('ROC cruve')\n",
    "# plt.savefig('user_original.png')\n",
    "plt.savefig('user_network.png')\n",
    "plt.show()"
   ]
  },
  {
   "cell_type": "code",
   "execution_count": 22,
   "outputs": [
    {
     "output_type": "stream",
     "name": "stdout",
     "text": [
      "0.1728402366863905\n"
     ]
    }
   ],
   "source": [
    "# Calculate EER\n",
    "\n",
    "# TODO: is this correct manner ?\n",
    "eer = brentq(lambda x : 1. - x - interp1d(fpr, tpr)(x), 0., 1.)\n",
    "thresh = interp1d(fpr, threshold)(eer)\n",
    "\n",
    "print(eer)\n",
    "# print(thresh)"
   ],
   "metadata": {
    "collapsed": false,
    "pycharm": {
     "name": "#%%\n"
    }
   }
  },
  {
   "cell_type": "code",
   "execution_count": 23,
   "outputs": [
    {
     "output_type": "stream",
     "name": "stdout",
     "text": [
      "1.0\n"
     ]
    }
   ],
   "source": [
    "# Calculate the zero-miss false-alarm rate\n",
    "\n",
    "# This is when the Hit Rate is equal 1 / Miss Rate is 0\n",
    "\n",
    "for index, val in enumerate(tpr):\n",
    "    # print(val)\n",
    "    if val == 1:\n",
    "        zero_miss_false_alarm = fpr[index]\n",
    "\n",
    "print(zero_miss_false_alarm)"
   ],
   "metadata": {
    "collapsed": false,
    "pycharm": {
     "name": "#%%\n"
    }
   }
  },
  {
   "cell_type": "code",
   "execution_count": 101,
   "outputs": [],
   "source": [],
   "metadata": {
    "collapsed": false,
    "pycharm": {
     "name": "#%%"
    }
   }
  }
 ],
 "metadata": {
  "kernelspec": {
   "name": "python372jvsc74a57bd04cd7ab41f5fca4b9b44701077e38c5ffd31fe66a6cab21e0214b68d958d0e462",
   "display_name": "Python 3.7.2 64-bit"
  },
  "language_info": {
   "codemirror_mode": {
    "name": "ipython",
    "version": 3
   },
   "file_extension": ".py",
   "mimetype": "text/x-python",
   "name": "python",
   "nbconvert_exporter": "python",
   "pygments_lexer": "ipython3",
   "version": "3.7.2"
  },
  "metadata": {
   "interpreter": {
    "hash": "4cd7ab41f5fca4b9b44701077e38c5ffd31fe66a6cab21e0214b68d958d0e462"
   }
  }
 },
 "nbformat": 4,
 "nbformat_minor": 2
}